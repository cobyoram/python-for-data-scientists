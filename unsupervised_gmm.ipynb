{
 "nbformat": 4,
 "nbformat_minor": 2,
 "metadata": {
  "language_info": {
   "name": "python",
   "codemirror_mode": {
    "name": "ipython",
    "version": 3
   },
   "version": "3.7.2-final"
  },
  "orig_nbformat": 2,
  "file_extension": ".py",
  "mimetype": "text/x-python",
  "name": "python",
  "npconvert_exporter": "python",
  "pygments_lexer": "ipython3",
  "version": 3,
  "kernelspec": {
   "name": "python37264bitd7afea03727a45fea46fb3907f3e48bf",
   "display_name": "Python 3.7.2 64-bit"
  }
 },
 "cells": [
  {
   "cell_type": "markdown",
   "metadata": {},
   "source": [
    "# Unsupervised -> Gaussian Mixture Modeling"
   ]
  },
  {
   "cell_type": "code",
   "execution_count": 1,
   "metadata": {},
   "outputs": [],
   "source": [
    "import pandas as pd\n",
    "import numpy as np\n",
    "import matplotlib.pyplot as plt\n",
    "from sqlalchemy import create_engine"
   ]
  },
  {
   "cell_type": "code",
   "execution_count": 2,
   "metadata": {},
   "outputs": [],
   "source": [
    "postgres_user = 'dsbc_student'\n",
    "postgres_pw = '7*.8G9QH21'\n",
    "postgres_host = '142.93.121.174'\n",
    "postgres_port = '5432'\n",
    "postgres_db = 'heartdisease'\n",
    "\n",
    "# Initialize the postgres engine\n",
    "engine = create_engine(f'postgresql://{postgres_user}:{postgres_pw}@{postgres_host}:{postgres_port}/{postgres_db}')\n",
    "\n",
    "# Read the data from a sql query to the engine\n",
    "heartdisease_df = pd.read_sql('SELECT * from {}'.format(postgres_db), con=engine)\n",
    "\n",
    "# Dispose of the engine\n",
    "engine.dispose()\n",
    "\n",
    "# Define the features and the outcome\n",
    "X = heartdisease_df.iloc[:, :13]\n",
    "y = heartdisease_df.iloc[:, 13]\n",
    "\n",
    "# Replace missing values (marked by ?) with a 0\n",
    "X = X.replace(to_replace='?', value=0)\n",
    "\n",
    "# Binarize y so that 1 means heart disease diagnosis and 0 means no diagnosis\n",
    "y = np.where(y > 0, 0, 1)"
   ]
  },
  {
   "cell_type": "markdown",
   "metadata": {},
   "source": [
    "### 1. Apply GMM to the heart disease data by setting n_components=2. Get ARI and silhoutte scores for your solution and compare it with those of the k-means and hierarchical clustering solutions that you implemented in the assignments of the previous checkpoints. Which algorithm does perform better?\n"
   ]
  },
  {
   "cell_type": "code",
   "execution_count": 3,
   "metadata": {},
   "outputs": [],
   "source": [
    "from sklearn.preprocessing import StandardScaler\n",
    "\n",
    "scaler = StandardScaler()\n",
    "X_std = scaler.fit_transform(X)"
   ]
  },
  {
   "cell_type": "code",
   "execution_count": 6,
   "metadata": {},
   "outputs": [
    {
     "name": "stdout",
     "output_type": "stream",
     "text": "ARI score: 0.4207322145049338\nSilhouette Score: 0.16118591340148433\n"
    }
   ],
   "source": [
    "from sklearn.mixture import GaussianMixture\n",
    "from sklearn import metrics\n",
    "\n",
    "gmm = GaussianMixture(n_components=2)\n",
    "preds = gmm.fit_predict(X_std)\n",
    "\n",
    "print('ARI score:', metrics.adjusted_rand_score(y, preds))\n",
    "print('Silhouette Score:', metrics.silhouette_score(X_std, preds))"
   ]
  },
  {
   "cell_type": "markdown",
   "metadata": {},
   "source": [
    "This model has the highest ARI score, meaning it replicates the ground truth far more accurately. However, the silhouette score is within the same ball park as both, meaning it captures similar data points into a cluster about as well as kmeans did. "
   ]
  },
  {
   "cell_type": "code",
   "execution_count": 12,
   "metadata": {},
   "outputs": [
    {
     "name": "stdout",
     "output_type": "stream",
     "text": "Covariance Type: full\nARI score: 0.4207322145049338\nSilhouette Score: 0.16118591340148433\n-------------------------------------\nCovariance Type: tied\nARI score: 0.18389186035089963\nSilhouette Score: 0.13628813153331445\n-------------------------------------\nCovariance Type: diag\nARI score: 0.18389186035089963\nSilhouette Score: 0.13628813153331445\n-------------------------------------\nCovariance Type: spherical\nARI score: 0.20765243525722465\nSilhouette Score: 0.12468753110276873\n-------------------------------------\n"
    }
   ],
   "source": [
    "co_types = ['full', 'tied', 'diag', 'spherical']\n",
    "\n",
    "for co_type in co_types:\n",
    "    gmm = GaussianMixture(n_components=2, covariance_type=co_type)\n",
    "    preds = gmm.fit_predict(X_std)\n",
    "\n",
    "    print('Covariance Type:', co_type)\n",
    "    print('ARI score:', metrics.adjusted_rand_score(y, preds))\n",
    "    print('Silhouette Score:', metrics.silhouette_score(X_std, preds))\n",
    "    print('-------------------------------------')"
   ]
  },
  {
   "cell_type": "markdown",
   "metadata": {},
   "source": [
    "The `full` covariance type easily yielded the best ARI score and Silhouette score. That is so far the best model at predicting heart failure.\n"
   ]
  },
  {
   "cell_type": "code",
   "execution_count": null,
   "metadata": {},
   "outputs": [],
   "source": []
  }
 ]
}