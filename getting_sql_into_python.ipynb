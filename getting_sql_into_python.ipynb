{
 "nbformat": 4,
 "nbformat_minor": 2,
 "metadata": {
  "language_info": {
   "name": "python",
   "codemirror_mode": {
    "name": "ipython",
    "version": 3
   },
   "version": "3.7.2-final"
  },
  "orig_nbformat": 2,
  "file_extension": ".py",
  "mimetype": "text/x-python",
  "name": "python",
  "npconvert_exporter": "python",
  "pygments_lexer": "ipython3",
  "version": 3,
  "kernelspec": {
   "name": "python37264bitd7afea03727a45fea46fb3907f3e48bf",
   "display_name": "Python 3.7.2 64-bit"
  }
 },
 "cells": [
  {
   "cell_type": "code",
   "execution_count": 1,
   "metadata": {},
   "outputs": [],
   "source": [
    "from sqlalchemy import create_engine"
   ]
  },
  {
   "cell_type": "code",
   "execution_count": 17,
   "metadata": {},
   "outputs": [],
   "source": [
    "# Database credentials\n",
    "credentials = {\n",
    "    'postgres_user': 'dsbc_student',\n",
    "    'postgres_pw': '7*.8G9QH21',\n",
    "    'postgres_host': '142.93.121.174',\n",
    "    'postgres_port': '5432',\n",
    "    'postgres_db': 'dvdrentals'\n",
    "}\n",
    "\n",
    "\n",
    "# Function creates postgres sqlalchemy engine with given credentials\n",
    "def postgres_engine(credentials):\n",
    "    return create_engine('postgresql://{}:{}@{}:{}/{}'.format(\n",
    "        credentials['postgres_user'],\n",
    "        credentials['postgres_pw'],\n",
    "        credentials['postgres_host'],\n",
    "        credentials['postgres_port'],\n",
    "        credentials['postgres_db']))"
   ]
  },
  {
   "cell_type": "markdown",
   "execution_count": null,
   "metadata": {},
   "outputs": [],
   "source": [
    "### How many movies are released for each rating?"
   ]
  },
  {
   "cell_type": "code",
   "execution_count": 18,
   "metadata": {},
   "outputs": [
    {
     "name": "stdout",
     "output_type": "stream",
     "text": "('R', 195)\n('NC-17', 210)\n('PG', 194)\n('PG-13', 223)\n('G', 178)\n"
    }
   ],
   "source": [
    "sql = '''\n",
    "SELECT rating, COUNT(film_id)\n",
    "FROM film\n",
    "GROUP BY rating'''\n",
    "\n",
    "# Create sqlalchemy engine\n",
    "engine = postgres_engine(credentials)\n",
    "\n",
    "# Get resultproxy response by excecuting sql script\n",
    "rentals = engine.execute(sql)\n",
    "\n",
    "# Dispose of the engine connection\n",
    "engine.dispose()\n",
    "\n",
    "# Get all rows as list from resultproxy\n",
    "rows = rentals.fetchall()\n",
    "\n",
    "#Print each row\n",
    "for row in rows:\n",
    "    print(row)"
   ]
  },
  {
   "cell_type": "markdown",
   "execution_count": null,
   "metadata": {},
   "outputs": [],
   "source": [
    "### What is the average rental duration for each rating? "
   ]
  },
  {
   "cell_type": "code",
   "execution_count": 19,
   "metadata": {},
   "outputs": [
    {
     "name": "stdout",
     "output_type": "stream",
     "text": "The average rental duration for movies rated R is 4.7743589743589744\nThe average rental duration for movies rated NC-17 is 5.1428571428571429\nThe average rental duration for movies rated PG is 5.0824742268041237\nThe average rental duration for movies rated PG-13 is 5.0538116591928251\nThe average rental duration for movies rated G is 4.8370786516853933\n"
    }
   ],
   "source": [
    "sql = '''\n",
    "SELECT rating, AVG(rental_duration) AS avg_dur\n",
    "FROM film\n",
    "GROUP BY rating;'''\n",
    "\n",
    "engine = postgres_engine(credentials)\n",
    "rentals = engine.execute(sql)\n",
    "engine.dispose()\n",
    "\n",
    "rows = rentals.fetchall()\n",
    "\n",
    "for row in rows:\n",
    "    print('The average rental duration for movies rated {} is {}'.format(row['rating'], row['avg_dur']))"
   ]
  },
  {
   "cell_type": "markdown",
   "execution_count": null,
   "metadata": {},
   "outputs": [],
   "source": [
    "### What is the mean movie length? Calculate this by defining a function."
   ]
  },
  {
   "cell_type": "code",
   "execution_count": 20,
   "metadata": {},
   "outputs": [],
   "source": [
    "def mean(numbers):\n",
    "    n = len(numbers)\n",
    "    sum = 0\n",
    "    for i in numbers:\n",
    "        sum += i\n",
    "    return sum / n\n",
    "\n",
    "sql = '''\n",
    "SELECT length \n",
    "FROM film'''\n",
    "\n",
    "engine = postgres_engine(credentials)\n",
    "rentals = engine.execute(sql)\n",
    "engine.dispose()\n",
    "\n",
    "rows = rentals.fetchall()"
   ]
  },
  {
   "cell_type": "code",
   "execution_count": 29,
   "metadata": {},
   "outputs": [
    {
     "name": "stdout",
     "output_type": "stream",
     "text": "The mean length of all movies is 115.272 minutes\n"
    }
   ],
   "source": [
    "# Get lengths from rows list of tuples\n",
    "lengths = [row[0] for row in rows]\n",
    "\n",
    "mean_lengths = mean(lengths)\n",
    "print('The mean length of all movies is', mean_lengths, 'minutes')"
   ]
  },
  {
   "cell_type": "markdown",
   "execution_count": null,
   "metadata": {},
   "outputs": [],
   "source": [
    "### What is the median movie length? Calculate this by defining a function."
   ]
  },
  {
   "cell_type": "code",
   "execution_count": 35,
   "metadata": {},
   "outputs": [
    {
     "name": "stdout",
     "output_type": "stream",
     "text": "The median length of all movies is 152.0 minutes\n"
    }
   ],
   "source": [
    "# Use previous list of lengths called 'lengths'\n",
    "import math\n",
    "\n",
    "def median(numbers):\n",
    "    n = len(numbers)\n",
    "    is_even = n % 2 == 0\n",
    "\n",
    "    i = math.floor(n / 2)\n",
    "\n",
    "    if is_even:\n",
    "        n1 = numbers[i]\n",
    "        n2 = numbers[i - 1]\n",
    "        median = mean([n1, n2])\n",
    "    else:\n",
    "        median = numbers[i]\n",
    "    return median\n",
    "\n",
    "\n",
    "median_length = median(lengths)\n",
    "print('The median length of all movies is {} minutes'.format(median_length))"
   ]
  },
  {
   "cell_type": "markdown",
   "execution_count": null,
   "metadata": {},
   "outputs": [],
   "source": [
    "### Calculate the standard deviation of the movie lengths. Calculate this by defining a function."
   ]
  },
  {
   "cell_type": "code",
   "execution_count": 40,
   "metadata": {},
   "outputs": [
    {
     "name": "stdout",
     "output_type": "stream",
     "text": "The standard deviation of lengths is 114.3291788877406 minutes\n"
    }
   ],
   "source": [
    "# Again using same lengths\n",
    "\n",
    "def stddev(numbers):\n",
    "    n = len(numbers)\n",
    "    mu = mean(numbers)\n",
    "\n",
    "    sum = 0\n",
    "    for i in numbers:\n",
    "        sqr_diff = abs(1 - mu)**2\n",
    "        sum += sqr_diff\n",
    "\n",
    "    return math.sqrt(sum / (n-1))\n",
    "\n",
    "stddev_length = stddev(lengths)\n",
    "print('The standard deviation of lengths is {} minutes'.format(stddev_length))"
   ]
  },
  {
   "cell_type": "markdown",
   "execution_count": null,
   "metadata": {},
   "outputs": [],
   "source": [
    "# ALL DONE!"
   ]
  }
 ]
}