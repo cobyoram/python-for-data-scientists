{
 "cells": [
  {
   "cell_type": "markdown",
   "metadata": {},
   "source": [
    "## Drill set 1\n",
    "\n",
    "#### 1. Calculate the probability of flipping a balanced coin four times and getting each pattern:\n",
    "\n",
    "*HTTH*: 1/2 * 1/2 * 1/2 * 1/2 = 1/16\n",
    "\n",
    "*HHHH*: 1/2 * 1/2 * 1/2 * 1/2 = 1/16\n",
    "\n",
    "*TTHH*: 1/2 * 1/2 * 1/2 * 1/2 = 1/16\n",
    "\n",
    "#### 2. If a list of people has 24 women and 21 men, then the probability of choosing a man from the list is 21/45. What is the probability of not choosing a man?\n",
    "\n",
    "(45-21) / 45 = 24/45\n",
    "\n",
    "#### 3. The probability that Bernice will travel by plane sometime in the next year is 10%. The probability of a plane crash at any time is .005%. What is the probability that Bernice will be in a plane crash sometime the next year?\n",
    "\n",
    "10% * .005% = .0005%\n",
    "\n",
    "#### 4. A data scientist wants to study the behavior of users on the company website. Each time a user clicks on a link on the website, there is a 5% chance that the user will be asked to complete a short survey about their behavior on the website. The data scientist uses the survey data to conclude that, on average, users spend 15 minutes surfing the company website before moving on to other things. What is wrong with this conclusion?\n",
    "\n",
    "While 5% of users are asked to complete the survey, only a portion of those will accept the prompt. It seems reasonable that those who would spend more time on the site are more likely going to answer the survey, causing a bias in the data. Akso the people who are there longer click more links, increasing the likelihood that they'll get the survey."
   ]
  },
  {
   "cell_type": "markdown",
   "metadata": {},
   "source": [
    "## Drill set 2\n",
    "\n",
    "#### A diagnostic test has a 98% probability of giving a positive result when applied to a person suffering from Thripshaw's Disease, and 10% probability of giving a (false) positive when applied to a non-sufferer. It is estimated that 0.5 % of the population are sufferers. Suppose that the test is now administered to a person whose disease status is unknown. Calculate the probability that the test will:\n",
    "\n",
    "#### 1 Be positive\n",
    "\n",
    "98% * .5% + 10% * 99.5% = 10.44%\n",
    "\n",
    "#### 2 Correctly diagnose a sufferer of Thripshaw's\n",
    "\n",
    "98%\n",
    "\n",
    "#### 3 Correctly identify a non-sufferer of Thripshaw's\n",
    "\n",
    "90%\n",
    "\n",
    "#### 4 Misclassify the person\n",
    "\n",
    "2% * .5% + 10% * 99.5% = 9.96%"
   ]
  }
 ],
 "metadata": {
  "kernelspec": {
   "display_name": "Python 3",
   "language": "python",
   "name": "python3"
  },
  "language_info": {
   "codemirror_mode": {
    "name": "ipython",
    "version": 3
   },
   "file_extension": ".py",
   "mimetype": "text/x-python",
   "name": "python",
   "nbconvert_exporter": "python",
   "pygments_lexer": "ipython3",
   "version": "3.7.4"
  }
 },
 "nbformat": 4,
 "nbformat_minor": 2
}
