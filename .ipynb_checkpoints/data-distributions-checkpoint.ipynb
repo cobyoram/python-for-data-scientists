{
 "cells": [
  {
   "cell_type": "code",
   "execution_count": 1,
   "metadata": {},
   "outputs": [],
   "source": [
    "import numpy as np\n",
    "import pandas as pd\n",
    "import matplotlib.pyplot as plt\n",
    "%matplotlib inline"
   ]
  },
  {
   "cell_type": "markdown",
   "metadata": {},
   "source": [
    "### 1. Gamma Distribution"
   ]
  },
  {
   "cell_type": "code",
   "execution_count": 32,
   "metadata": {},
   "outputs": [],
   "source": [
    "shape = 2\n",
    "scale = 1\n",
    "\n",
    "# Generate a gamma distribution with shape = 2 and scale = 1\n",
    "var = np.random.gamma(shape, scale, 100)"
   ]
  },
  {
   "cell_type": "code",
   "execution_count": 33,
   "metadata": {},
   "outputs": [
    {
     "data": {
      "image/png": "[encoded data removed]",
      "text/plain": [
       "<Figure size 432x288 with 1 Axes>"
      ]
     },
     "metadata": {
      "needs_background": "light"
     },
     "output_type": "display_data"
    }
   ],
   "source": [
    "# plot a histogram.\n",
    "plt.hist(var)\n",
    "# Print plotted histogram.\n",
    "plt.show()"
   ]
  },
  {
   "cell_type": "code",
   "execution_count": 34,
   "metadata": {},
   "outputs": [
    {
     "data": {
      "image/png": "[encoded data removed]",
      "text/plain": [
       "<Figure size 432x288 with 1 Axes>"
      ]
     },
     "metadata": {
      "needs_background": "light"
     },
     "output_type": "display_data"
    }
   ],
   "source": [
    "# Use numpy's .mean function to find mean\n",
    "mean = variables.mean()\n",
    "# Use numpy's .std function to find standard deviation\n",
    "std = variables.std()\n",
    "\n",
    "#Redraw the histogram\n",
    "plt.hist(var)\n",
    "\n",
    "# Plot the mean as a solid yellow line\n",
    "plt.axvline(mean, color='y')\n",
    "\n",
    "#Plot 1 standard deviation both directions as a dotted yellow line\n",
    "plt.axvline(mean + std, color='y', linestyle='dashed')\n",
    "plt.axvline(mean - std, color='y', linestyle='dashed')\n",
    "\n",
    "plt.show()"
   ]
  },
  {
   "cell_type": "markdown",
   "metadata": {},
   "source": [
    "Seems like the gamma curve tends to be skewed right, with outliers stretching the mean right."
   ]
  },
  {
   "cell_type": "markdown",
   "metadata": {},
   "source": [
    "### 2. Poisson"
   ]
  },
  {
   "cell_type": "code",
   "execution_count": 35,
   "metadata": {},
   "outputs": [],
   "source": [
    "lam = 2\n",
    "\n",
    "# Generate a poisson distribution with n=100 and lam=2\n",
    "var = np.random.poisson(2, 100)"
   ]
  },
  {
   "cell_type": "code",
   "execution_count": 36,
   "metadata": {},
   "outputs": [
    {
     "data": {
      "image/png": "[encoded data removed]",
      "text/plain": [
       "<Figure size 432x288 with 1 Axes>"
      ]
     },
     "metadata": {
      "needs_background": "light"
     },
     "output_type": "display_data"
    }
   ],
   "source": [
    "# plot a histogram.\n",
    "plt.hist(var)\n",
    "# Print plotted histogram.\n",
    "plt.show()"
   ]
  },
  {
   "cell_type": "code",
   "execution_count": 37,
   "metadata": {},
   "outputs": [
    {
     "data": {
      "image/png": "[encoded data removed]",
      "text/plain": [
       "<Figure size 432x288 with 1 Axes>"
      ]
     },
     "metadata": {
      "needs_background": "light"
     },
     "output_type": "display_data"
    }
   ],
   "source": [
    "# Use numpy's .mean function to find mean\n",
    "mean = var.mean()\n",
    "# Use numpy's .std function to find standard deviation\n",
    "std = var.std()\n",
    "\n",
    "#Redraw the histogram\n",
    "plt.hist(var)\n",
    "\n",
    "# Plot the mean as a solid yellow line\n",
    "plt.axvline(mean, color='y')\n",
    "\n",
    "#Plot 1 standard deviation both directions as a dotted yellow line\n",
    "plt.axvline(mean + std, color='y', linestyle='dashed')\n",
    "plt.axvline(mean - std, color='y', linestyle='dashed')\n",
    "\n",
    "plt.show()"
   ]
  },
  {
   "cell_type": "markdown",
   "metadata": {},
   "source": [
    "The data isn't continuous at all. The overall curve seems to roughly follow a slightly right skewed normal curve."
   ]
  },
  {
   "cell_type": "markdown",
   "metadata": {},
   "source": [
    "### 3. Standard Normal"
   ]
  },
  {
   "cell_type": "code",
   "execution_count": 41,
   "metadata": {},
   "outputs": [],
   "source": [
    "# Generate a standard normal distribution with n=100\n",
    "var = np.random.standard_normal(100)"
   ]
  },
  {
   "cell_type": "code",
   "execution_count": 42,
   "metadata": {},
   "outputs": [
    {
     "data": {
      "image/png": "[encoded data removed]",
      "text/plain": [
       "<Figure size 432x288 with 1 Axes>"
      ]
     },
     "metadata": {
      "needs_background": "light"
     },
     "output_type": "display_data"
    }
   ],
   "source": [
    "# plot a histogram.\n",
    "plt.hist(var)\n",
    "# Print plotted histogram.\n",
    "plt.show()"
   ]
  },
  {
   "cell_type": "code",
   "execution_count": 44,
   "metadata": {},
   "outputs": [
    {
     "data": {
      "image/png": "[encoded data removed]",
      "text/plain": [
       "<Figure size 432x288 with 1 Axes>"
      ]
     },
     "metadata": {
      "needs_background": "light"
     },
     "output_type": "display_data"
    }
   ],
   "source": [
    "# Use numpy's .mean function to find mean\n",
    "mean = var.mean()\n",
    "# Use numpy's .std function to find standard deviation\n",
    "std = var.std()\n",
    "\n",
    "#Redraw the histogram\n",
    "plt.hist(var, bins=20)\n",
    "\n",
    "# Plot the mean as a solid yellow line\n",
    "plt.axvline(mean, color='y')\n",
    "\n",
    "#Plot 1 standard deviation both directions as a dotted yellow line\n",
    "plt.axvline(mean + std, color='y', linestyle='dashed')\n",
    "plt.axvline(mean - std, color='y', linestyle='dashed')\n",
    "\n",
    "plt.show()"
   ]
  },
  {
   "cell_type": "markdown",
   "metadata": {},
   "source": [
    "The data appears to fairly closely follow a normal distribution. It has a fairly symmetrical descend on either side of the central mean."
   ]
  },
  {
   "cell_type": "markdown",
   "metadata": {},
   "source": [
    "### 4. Uniform"
   ]
  },
  {
   "cell_type": "code",
   "execution_count": 48,
   "metadata": {},
   "outputs": [],
   "source": [
    "low = 0\n",
    "high = 4\n",
    "\n",
    "# Generate a poisson distribution with n=100 and low of 0 and high of 4\n",
    "var = np.random.uniform(low, high, 100)"
   ]
  },
  {
   "cell_type": "code",
   "execution_count": 49,
   "metadata": {},
   "outputs": [
    {
     "data": {
      "image/png": "[encoded data removed]",
      "text/plain": [
       "<Figure size 432x288 with 1 Axes>"
      ]
     },
     "metadata": {
      "needs_background": "light"
     },
     "output_type": "display_data"
    }
   ],
   "source": [
    "# plot a histogram.\n",
    "plt.hist(var)\n",
    "# Print plotted histogram.\n",
    "plt.show()"
   ]
  },
  {
   "cell_type": "code",
   "execution_count": 50,
   "metadata": {},
   "outputs": [
    {
     "data": {
      "image/png": "[encoded data removed]",
      "text/plain": [
       "<Figure size 432x288 with 1 Axes>"
      ]
     },
     "metadata": {
      "needs_background": "light"
     },
     "output_type": "display_data"
    }
   ],
   "source": [
    "# Use numpy's .mean function to find mean\n",
    "mean = var.mean()\n",
    "# Use numpy's .std function to find standard deviation\n",
    "std = var.std()\n",
    "\n",
    "#Redraw the histogram\n",
    "plt.hist(var)\n",
    "\n",
    "# Plot the mean as a solid yellow line\n",
    "plt.axvline(mean, color='y')\n",
    "\n",
    "#Plot 1 standard deviation both directions as a dotted yellow line\n",
    "plt.axvline(mean + std, color='y', linestyle='dashed')\n",
    "plt.axvline(mean - std, color='y', linestyle='dashed')\n",
    "\n",
    "plt.show()"
   ]
  },
  {
   "cell_type": "markdown",
   "metadata": {},
   "source": [
    "While relatively continuous, the data does not have any of the characteristics of a normal distribution. This sample actually has its max occurances happen at the highest bin."
   ]
  },
  {
   "cell_type": "markdown",
   "metadata": {},
   "source": [
    "### 5. Negative Binomial"
   ]
  },
  {
   "cell_type": "code",
   "execution_count": 60,
   "metadata": {},
   "outputs": [],
   "source": [
    "trials = 5\n",
    "p = .5\n",
    "\n",
    "# Generate a poisson distribution with n=100 and trials=5, and p=.5\n",
    "var = np.random.negative_binomial(trials, par, 100)"
   ]
  },
  {
   "cell_type": "code",
   "execution_count": 61,
   "metadata": {},
   "outputs": [
    {
     "data": {
      "image/png": "[encoded data removed]",
      "text/plain": [
       "<Figure size 432x288 with 1 Axes>"
      ]
     },
     "metadata": {
      "needs_background": "light"
     },
     "output_type": "display_data"
    }
   ],
   "source": [
    "# plot a histogram.\n",
    "plt.hist(var)\n",
    "# Print plotted histogram.\n",
    "plt.show()"
   ]
  },
  {
   "cell_type": "code",
   "execution_count": 62,
   "metadata": {},
   "outputs": [
    {
     "data": {
      "image/png": "[encoded data removed]",
      "text/plain": [
       "<Figure size 432x288 with 1 Axes>"
      ]
     },
     "metadata": {
      "needs_background": "light"
     },
     "output_type": "display_data"
    }
   ],
   "source": [
    "# Use numpy's .mean function to find mean\n",
    "mean = var.mean()\n",
    "# Use numpy's .std function to find standard deviation\n",
    "std = var.std()\n",
    "\n",
    "#Redraw the histogram\n",
    "plt.hist(var)\n",
    "\n",
    "# Plot the mean as a solid yellow line\n",
    "plt.axvline(mean, color='y')\n",
    "\n",
    "#Plot 1 standard deviation both directions as a dotted yellow line\n",
    "plt.axvline(mean + std, color='y', linestyle='dashed')\n",
    "plt.axvline(mean - std, color='y', linestyle='dashed')\n",
    "\n",
    "plt.show()"
   ]
  },
  {
   "cell_type": "markdown",
   "metadata": {},
   "source": [
    "Overall, the data seems to roughly follow a normal curve, if not a skewed right curve."
   ]
  },
  {
   "cell_type": "markdown",
   "metadata": {},
   "source": [
    "### 2. Logistic"
   ]
  },
  {
   "cell_type": "code",
   "execution_count": 71,
   "metadata": {},
   "outputs": [],
   "source": [
    "# Generate a poisson distribution with n=100\n",
    "var = np.random.logistic(2, 5, 100)"
   ]
  },
  {
   "cell_type": "code",
   "execution_count": 72,
   "metadata": {},
   "outputs": [
    {
     "data": {
      "image/png": "[encoded data removed]",
      "text/plain": [
       "<Figure size 432x288 with 1 Axes>"
      ]
     },
     "metadata": {
      "needs_background": "light"
     },
     "output_type": "display_data"
    }
   ],
   "source": [
    "# plot a histogram.\n",
    "plt.hist(var)\n",
    "# Print plotted histogram.\n",
    "plt.show()"
   ]
  },
  {
   "cell_type": "code",
   "execution_count": 75,
   "metadata": {},
   "outputs": [
    {
     "data": {
      "image/png": "[encoded data removed]",
      "text/plain": [
       "<Figure size 432x288 with 1 Axes>"
      ]
     },
     "metadata": {
      "needs_background": "light"
     },
     "output_type": "display_data"
    }
   ],
   "source": [
    "# Use numpy's .mean function to find mean\n",
    "mean = var.mean()\n",
    "# Use numpy's .std function to find standard deviation\n",
    "std = var.std()\n",
    "\n",
    "#Redraw the histogram\n",
    "plt.hist(var, bins = 50)\n",
    "\n",
    "# Plot the mean as a solid yellow line\n",
    "plt.axvline(mean, color='y')\n",
    "\n",
    "#Plot 1 standard deviation both directions as a dotted yellow line\n",
    "plt.axvline(mean + std, color='y', linestyle='dashed')\n",
    "plt.axvline(mean - std, color='y', linestyle='dashed')\n",
    "\n",
    "plt.show()"
   ]
  },
  {
   "cell_type": "markdown",
   "metadata": {},
   "source": [
    "The data certainly follows a bell-like curve. It does however carry a surprising number of edge case data points."
   ]
  },
  {
   "cell_type": "markdown",
   "metadata": {},
   "source": [
    "# Aditionally"
   ]
  },
  {
   "cell_type": "code",
   "execution_count": 78,
   "metadata": {},
   "outputs": [],
   "source": [
    "mean1, std1 = 5, .5\n",
    "mean2, std2 = 10, 1\n",
    "\n",
    "#create numpy normal distributions with each of those parameters\n",
    "curve1 = np.random.normal(mean1, std1, 100)\n",
    "curve2 = np.random.normal(mean2, std2, 100)"
   ]
  },
  {
   "cell_type": "code",
   "execution_count": 80,
   "metadata": {},
   "outputs": [],
   "source": [
    "#Create 3rd curve which adds them together\n",
    "curve3 = curve1 + curve2"
   ]
  },
  {
   "cell_type": "code",
   "execution_count": 83,
   "metadata": {},
   "outputs": [
    {
     "data": {
      "image/png": "[encoded data removed]",
      "text/plain": [
       "<Figure size 432x288 with 1 Axes>"
      ]
     },
     "metadata": {
      "needs_background": "light"
     },
     "output_type": "display_data"
    }
   ],
   "source": [
    "#Graph the 3rd variable using a histogram.\n",
    "plt.hist(curve3)\n",
    "\n",
    "#Display the histogram\n",
    "plt.show()"
   ]
  },
  {
   "cell_type": "code",
   "execution_count": 85,
   "metadata": {
    "scrolled": true
   },
   "outputs": [
    {
     "data": {
      "image/png": "[encoded data removed]",
      "text/plain": [
       "<Figure size 432x288 with 1 Axes>"
      ]
     },
     "metadata": {
      "needs_background": "light"
     },
     "output_type": "display_data"
    }
   ],
   "source": [
    "# Compute mean and standard deviation\n",
    "mean, std = curve3.mean(), curve3.std()\n",
    "\n",
    "# Re graph the histogram\n",
    "plt.hist(curve3)\n",
    "\n",
    "# Graph mean and 1st std lines on graph\n",
    "plt.axvline(mean, color='y')\n",
    "plt.axvline(mean + std, color='y', linestyle='dashed')\n",
    "plt.axvline(mean - std, color='y', linestyle='dashed')\n",
    "\n",
    "plt.show()"
   ]
  },
  {
   "cell_type": "markdown",
   "metadata": {},
   "source": [
    "This is a normal distribution. It is easy to see the classic symmetrical curve with the tapered tails and the bell-shaped probability mass."
   ]
  },
  {
   "cell_type": "code",
   "execution_count": null,
   "metadata": {},
   "outputs": [],
   "source": []
  }
 ],
 "metadata": {
  "kernelspec": {
   "display_name": "Python 3",
   "language": "python",
   "name": "python3"
  },
  "language_info": {
   "codemirror_mode": {
    "name": "ipython",
    "version": 3
   },
   "file_extension": ".py",
   "mimetype": "text/x-python",
   "name": "python",
   "nbconvert_exporter": "python",
   "pygments_lexer": "ipython3",
   "version": "3.7.4"
  }
 },
 "nbformat": 4,
 "nbformat_minor": 2
}
