{
 "nbformat": 4,
 "nbformat_minor": 2,
 "metadata": {
  "language_info": {
   "name": "python",
   "codemirror_mode": {
    "name": "ipython",
    "version": 3
   }
  },
  "orig_nbformat": 2,
  "file_extension": ".py",
  "mimetype": "text/x-python",
  "name": "python",
  "npconvert_exporter": "python",
  "pygments_lexer": "ipython3",
  "version": 3
 },
 "cells": [
  {
   "cell_type": "markdown",
   "metadata": {},
   "source": [
    "# What is a regression task"
   ]
  },
  {
   "cell_type": "markdown",
   "metadata": {},
   "source": [
    "Assignment\n",
    "\n",
    "To close out this checkpoint, answer the following questions. Once you're done, you can compare your answers to the ones found in this notebook, which you can download.\n",
    "\n",
    "1. Let's assume that you have World Bank data on financial, economic and social indicators for several countries. You want to measure the factors that affect the level of development in these countries. To this end, you decide to use per capita income as a proxy for the development level, which is defined as the national income divided by the population. You want to use some features in your dataset to predict per capita income. Is this task a classification or a regression task? Why?\n",
    "\n",
    "2. Which of the following arguments are false and why?\n",
    "    - OLS is a special type of linear regression models\n",
    "    - Regression models become useless if they don’t meet the assumptions of linear regression.\n",
    "    - Estimation and prediction are the same thing in the context of linear regression models.\n",
    "    - Linear regression is only one kind of regression model. Regression problems can also be solved with other kind of models like Support Vector Machines or Random Forests.\n",
    "    \n",
    "3. Assume that your project manager wants you to discover which free services your company offers make your customers buy more of your paid services. Formulate this task as a regression problem and write down the potential outcome and features that you’d like to work on.\n"
   ]
  },
  {
   "cell_type": "markdown",
   "metadata": {},
   "source": [
    "#### 1.\n",
    "\n",
    "This task is a regression task because monetary value could take an infinite (continuous) number of solutions. You may bin the outcomes after the model performs, but since you're prediction is continuous, you are using regression."
   ]
  },
  {
   "cell_type": "markdown",
   "metadata": {},
   "source": [
    "#### 2.\n",
    "The false argument is \n",
    "\n",
    "    Linear regression is only one kind of regression model. Regression problems can also be solved with other kind of models like Support Vector Machines or Random Forests.\n",
    "Support Vector Machines and Random Forests are both classification models, predicting categorical outcome labels."
   ]
  },
  {
   "cell_type": "markdown",
   "metadata": {},
   "source": [
    "#### 3.\n",
    "This is a regression task. While the feature variable will be a one-hot-encoded categorical variable, the target variable is a continuous monetary value. I would include a feature for each possible free service, with a one or a zero indicating wheather or not the customer is using that service, then a monetary target value that is per capita income. Any customer could be subscribed to any number of free services, they are not limited to one or another."
   ]
  }
 ]
}