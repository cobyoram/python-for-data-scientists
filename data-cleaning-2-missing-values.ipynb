{
 "nbformat": 4,
 "nbformat_minor": 2,
 "metadata": {
  "language_info": {
   "name": "python",
   "codemirror_mode": {
    "name": "ipython",
    "version": 3
   },
   "version": "3.7.2-final"
  },
  "orig_nbformat": 2,
  "file_extension": ".py",
  "mimetype": "text/x-python",
  "name": "python",
  "npconvert_exporter": "python",
  "pygments_lexer": "ipython3",
  "version": 3,
  "kernelspec": {
   "name": "python37264bitd7afea03727a45fea46fb3907f3e48bf",
   "display_name": "Python 3.7.2 64-bit"
  }
 },
 "cells": [
  {
   "cell_type": "markdown",
   "execution_count": null,
   "metadata": {},
   "outputs": [],
   "source": [
    "# Data Cleaning 2: Missing Values"
   ]
  },
  {
   "cell_type": "markdown",
   "execution_count": null,
   "metadata": {},
   "outputs": [],
   "source": [
    "### 1. Determine all the variable types and find the fraction of the missing values for each variable."
   ]
  },
  {
   "cell_type": "code",
   "execution_count": 93,
   "metadata": {},
   "outputs": [],
   "source": [
    "import pandas as pd\n",
    "import numpy as np\n",
    "from sqlalchemy import create_engine\n",
    "import warnings\n",
    "\n",
    "warnings.filterwarnings('ignore')"
   ]
  },
  {
   "cell_type": "code",
   "execution_count": 94,
   "metadata": {},
   "outputs": [],
   "source": [
    "postgres_user = 'dsbc_student'\n",
    "postgres_pw = '7*.8G9QH21'\n",
    "postgres_host = '142.93.121.174'\n",
    "postgres_port = '5432'\n",
    "postgres_db = 'useducation'\n",
    "\n",
    "engine = create_engine('postgresql://{}:{}@{}:{}/{}'.format(\n",
    "    postgres_user, postgres_pw, postgres_host, postgres_port, postgres_db))\n",
    "\n",
    "education_df = pd.read_sql_query('SELECT * FROM useducation', con=engine)\n",
    "\n",
    "engine.dispose()"
   ]
  },
  {
   "cell_type": "code",
   "execution_count": 95,
   "metadata": {},
   "outputs": [
    {
     "name": "stdout",
     "output_type": "stream",
     "text": "<class 'pandas.core.frame.DataFrame'>\nRangeIndex: 1492 entries, 0 to 1491\nData columns (total 25 columns):\nPRIMARY_KEY                     1492 non-null object\nSTATE                           1492 non-null object\nYEAR                            1492 non-null int64\nENROLL                          1229 non-null float64\nTOTAL_REVENUE                   1280 non-null float64\nFEDERAL_REVENUE                 1280 non-null float64\nSTATE_REVENUE                   1280 non-null float64\nLOCAL_REVENUE                   1280 non-null float64\nTOTAL_EXPENDITURE               1280 non-null float64\nINSTRUCTION_EXPENDITURE         1280 non-null float64\nSUPPORT_SERVICES_EXPENDITURE    1280 non-null float64\nOTHER_EXPENDITURE               1229 non-null float64\nCAPITAL_OUTLAY_EXPENDITURE      1280 non-null float64\nGRADES_PK_G                     1319 non-null float64\nGRADES_KG_G                     1360 non-null float64\nGRADES_4_G                      1361 non-null float64\nGRADES_8_G                      1361 non-null float64\nGRADES_12_G                     1361 non-null float64\nGRADES_1_8_G                    1361 non-null float64\nGRADES_9_12_G                   1361 non-null float64\nGRADES_ALL_G                    1319 non-null float64\nAVG_MATH_4_SCORE                536 non-null float64\nAVG_MATH_8_SCORE                532 non-null float64\nAVG_READING_4_SCORE             533 non-null float64\nAVG_READING_8_SCORE             498 non-null float64\ndtypes: float64(22), int64(1), object(2)\nmemory usage: 291.5+ KB\n"
    }
   ],
   "source": [
    "education_df.info()"
   ]
  },
  {
   "cell_type": "code",
   "execution_count": 96,
   "metadata": {},
   "outputs": [
    {
     "data": {
      "text/plain": "PRIMARY_KEY                       0.000000\nSTATE                             0.000000\nYEAR                              0.000000\nENROLL                           21.399512\nTOTAL_REVENUE                    16.562500\nFEDERAL_REVENUE                  16.562500\nSTATE_REVENUE                    16.562500\nLOCAL_REVENUE                    16.562500\nTOTAL_EXPENDITURE                16.562500\nINSTRUCTION_EXPENDITURE          16.562500\nSUPPORT_SERVICES_EXPENDITURE     16.562500\nOTHER_EXPENDITURE                21.399512\nCAPITAL_OUTLAY_EXPENDITURE       16.562500\nGRADES_PK_G                      13.115997\nGRADES_KG_G                       9.705882\nGRADES_4_G                        9.625276\nGRADES_8_G                        9.625276\nGRADES_12_G                       9.625276\nGRADES_1_8_G                      9.625276\nGRADES_9_12_G                     9.625276\nGRADES_ALL_G                     13.115997\nAVG_MATH_4_SCORE                178.358209\nAVG_MATH_8_SCORE                180.451128\nAVG_READING_4_SCORE             179.924953\nAVG_READING_8_SCORE             199.598394\ndtype: float64"
     },
     "execution_count": 96,
     "metadata": {},
     "output_type": "execute_result"
    }
   ],
   "source": [
    "education_df.isnull().sum()*100/education_df.count()"
   ]
  },
  {
   "cell_type": "markdown",
   "execution_count": null,
   "metadata": {},
   "outputs": [],
   "source": [
    "### 2. Notice that the data has a time dimension (year). For this assignment, forget about time and treat all the observations as if they're from the same year. Choose a strategy to deal with the missing values for each variables. For which variables would filling in the missing values with some value make sense? For which might tossing out the records entirely make sense?"
   ]
  },
  {
   "cell_type": "code",
   "execution_count": 97,
   "metadata": {},
   "outputs": [
    {
     "data": {
      "text/html": "<div>\n<style scoped>\n    .dataframe tbody tr th:only-of-type {\n        vertical-align: middle;\n    }\n\n    .dataframe tbody tr th {\n        vertical-align: top;\n    }\n\n    .dataframe thead th {\n        text-align: right;\n    }\n</style>\n<table border=\"1\" class=\"dataframe\">\n  <thead>\n    <tr style=\"text-align: right;\">\n      <th></th>\n      <th>YEAR</th>\n      <th>ENROLL</th>\n      <th>TOTAL_REVENUE</th>\n      <th>FEDERAL_REVENUE</th>\n      <th>STATE_REVENUE</th>\n      <th>LOCAL_REVENUE</th>\n      <th>TOTAL_EXPENDITURE</th>\n      <th>INSTRUCTION_EXPENDITURE</th>\n      <th>SUPPORT_SERVICES_EXPENDITURE</th>\n      <th>OTHER_EXPENDITURE</th>\n      <th>...</th>\n      <th>GRADES_4_G</th>\n      <th>GRADES_8_G</th>\n      <th>GRADES_12_G</th>\n      <th>GRADES_1_8_G</th>\n      <th>GRADES_9_12_G</th>\n      <th>GRADES_ALL_G</th>\n      <th>AVG_MATH_4_SCORE</th>\n      <th>AVG_MATH_8_SCORE</th>\n      <th>AVG_READING_4_SCORE</th>\n      <th>AVG_READING_8_SCORE</th>\n    </tr>\n  </thead>\n  <tbody>\n    <tr>\n      <th>count</th>\n      <td>1492.000000</td>\n      <td>1.229000e+03</td>\n      <td>1.280000e+03</td>\n      <td>1.280000e+03</td>\n      <td>1.280000e+03</td>\n      <td>1.280000e+03</td>\n      <td>1.280000e+03</td>\n      <td>1.280000e+03</td>\n      <td>1.280000e+03</td>\n      <td>1.229000e+03</td>\n      <td>...</td>\n      <td>1361.000000</td>\n      <td>1361.000000</td>\n      <td>1361.00000</td>\n      <td>1.361000e+03</td>\n      <td>1.361000e+03</td>\n      <td>1.319000e+03</td>\n      <td>536.000000</td>\n      <td>532.000000</td>\n      <td>533.000000</td>\n      <td>498.000000</td>\n    </tr>\n    <tr>\n      <th>mean</th>\n      <td>2004.433646</td>\n      <td>9.159308e+05</td>\n      <td>9.092082e+06</td>\n      <td>7.663723e+05</td>\n      <td>4.216553e+06</td>\n      <td>4.109157e+06</td>\n      <td>9.196681e+06</td>\n      <td>4.762966e+06</td>\n      <td>2.680331e+06</td>\n      <td>4.292046e+05</td>\n      <td>...</td>\n      <td>64538.927259</td>\n      <td>64271.057311</td>\n      <td>54268.92432</td>\n      <td>5.192140e+05</td>\n      <td>2.470714e+05</td>\n      <td>8.024415e+05</td>\n      <td>234.768293</td>\n      <td>278.414711</td>\n      <td>218.866154</td>\n      <td>263.661132</td>\n    </tr>\n    <tr>\n      <th>std</th>\n      <td>7.393983</td>\n      <td>1.065280e+06</td>\n      <td>1.174519e+07</td>\n      <td>1.145242e+06</td>\n      <td>5.543072e+06</td>\n      <td>5.482971e+06</td>\n      <td>1.197813e+07</td>\n      <td>6.293004e+06</td>\n      <td>3.353349e+06</td>\n      <td>5.340693e+05</td>\n      <td>...</td>\n      <td>80293.387625</td>\n      <td>78910.545776</td>\n      <td>67889.27623</td>\n      <td>6.436384e+05</td>\n      <td>3.077056e+05</td>\n      <td>9.707031e+05</td>\n      <td>10.221511</td>\n      <td>10.159722</td>\n      <td>7.769616</td>\n      <td>6.803725</td>\n    </tr>\n    <tr>\n      <th>min</th>\n      <td>1992.000000</td>\n      <td>4.386600e+04</td>\n      <td>4.656500e+05</td>\n      <td>3.102000e+04</td>\n      <td>0.000000e+00</td>\n      <td>2.209300e+04</td>\n      <td>4.816650e+05</td>\n      <td>2.655490e+05</td>\n      <td>1.399630e+05</td>\n      <td>1.154100e+04</td>\n      <td>...</td>\n      <td>633.000000</td>\n      <td>437.000000</td>\n      <td>311.00000</td>\n      <td>4.878000e+03</td>\n      <td>1.808000e+03</td>\n      <td>7.254000e+03</td>\n      <td>187.134670</td>\n      <td>232.831510</td>\n      <td>178.557612</td>\n      <td>236.379102</td>\n    </tr>\n    <tr>\n      <th>25%</th>\n      <td>1998.000000</td>\n      <td>2.583140e+05</td>\n      <td>2.186305e+06</td>\n      <td>1.893540e+05</td>\n      <td>1.153097e+06</td>\n      <td>7.158345e+05</td>\n      <td>2.165404e+06</td>\n      <td>1.168032e+06</td>\n      <td>6.357900e+05</td>\n      <td>1.028310e+05</td>\n      <td>...</td>\n      <td>13739.000000</td>\n      <td>13342.000000</td>\n      <td>10919.00000</td>\n      <td>1.106260e+05</td>\n      <td>5.147100e+04</td>\n      <td>1.810650e+05</td>\n      <td>229.694352</td>\n      <td>272.761598</td>\n      <td>214.663401</td>\n      <td>259.533171</td>\n    </tr>\n    <tr>\n      <th>50%</th>\n      <td>2004.000000</td>\n      <td>6.483130e+05</td>\n      <td>5.079546e+06</td>\n      <td>4.033765e+05</td>\n      <td>2.537074e+06</td>\n      <td>2.055780e+06</td>\n      <td>5.234506e+06</td>\n      <td>2.657452e+06</td>\n      <td>1.525406e+06</td>\n      <td>2.715960e+05</td>\n      <td>...</td>\n      <td>43272.000000</td>\n      <td>43339.000000</td>\n      <td>36735.00000</td>\n      <td>3.457750e+05</td>\n      <td>1.642600e+05</td>\n      <td>5.503420e+05</td>\n      <td>237.238552</td>\n      <td>280.618803</td>\n      <td>220.416034</td>\n      <td>265.010912</td>\n    </tr>\n    <tr>\n      <th>75%</th>\n      <td>2011.000000</td>\n      <td>1.014528e+06</td>\n      <td>1.085985e+07</td>\n      <td>8.289660e+05</td>\n      <td>5.080939e+06</td>\n      <td>4.768680e+06</td>\n      <td>1.074519e+07</td>\n      <td>5.568028e+06</td>\n      <td>3.229651e+06</td>\n      <td>5.186000e+05</td>\n      <td>...</td>\n      <td>75481.000000</td>\n      <td>76566.000000</td>\n      <td>67460.00000</td>\n      <td>6.119050e+05</td>\n      <td>2.905020e+05</td>\n      <td>9.282755e+05</td>\n      <td>241.995486</td>\n      <td>285.347428</td>\n      <td>223.999337</td>\n      <td>268.190121</td>\n    </tr>\n    <tr>\n      <th>max</th>\n      <td>2017.000000</td>\n      <td>6.307022e+06</td>\n      <td>8.921726e+07</td>\n      <td>9.990221e+06</td>\n      <td>5.090457e+07</td>\n      <td>3.610526e+07</td>\n      <td>8.532013e+07</td>\n      <td>4.396452e+07</td>\n      <td>2.605802e+07</td>\n      <td>3.995951e+06</td>\n      <td>...</td>\n      <td>493415.000000</td>\n      <td>500143.000000</td>\n      <td>498403.00000</td>\n      <td>3.929869e+06</td>\n      <td>2.013687e+06</td>\n      <td>5.944746e+06</td>\n      <td>253.420961</td>\n      <td>300.568235</td>\n      <td>236.773867</td>\n      <td>280.499130</td>\n    </tr>\n  </tbody>\n</table>\n<p>8 rows × 23 columns</p>\n</div>",
      "text/plain": "              YEAR        ENROLL  TOTAL_REVENUE  FEDERAL_REVENUE  \\\ncount  1492.000000  1.229000e+03   1.280000e+03     1.280000e+03   \nmean   2004.433646  9.159308e+05   9.092082e+06     7.663723e+05   \nstd       7.393983  1.065280e+06   1.174519e+07     1.145242e+06   \nmin    1992.000000  4.386600e+04   4.656500e+05     3.102000e+04   \n25%    1998.000000  2.583140e+05   2.186305e+06     1.893540e+05   \n50%    2004.000000  6.483130e+05   5.079546e+06     4.033765e+05   \n75%    2011.000000  1.014528e+06   1.085985e+07     8.289660e+05   \nmax    2017.000000  6.307022e+06   8.921726e+07     9.990221e+06   \n\n       STATE_REVENUE  LOCAL_REVENUE  TOTAL_EXPENDITURE  \\\ncount   1.280000e+03   1.280000e+03       1.280000e+03   \nmean    4.216553e+06   4.109157e+06       9.196681e+06   \nstd     5.543072e+06   5.482971e+06       1.197813e+07   \nmin     0.000000e+00   2.209300e+04       4.816650e+05   \n25%     1.153097e+06   7.158345e+05       2.165404e+06   \n50%     2.537074e+06   2.055780e+06       5.234506e+06   \n75%     5.080939e+06   4.768680e+06       1.074519e+07   \nmax     5.090457e+07   3.610526e+07       8.532013e+07   \n\n       INSTRUCTION_EXPENDITURE  SUPPORT_SERVICES_EXPENDITURE  \\\ncount             1.280000e+03                  1.280000e+03   \nmean              4.762966e+06                  2.680331e+06   \nstd               6.293004e+06                  3.353349e+06   \nmin               2.655490e+05                  1.399630e+05   \n25%               1.168032e+06                  6.357900e+05   \n50%               2.657452e+06                  1.525406e+06   \n75%               5.568028e+06                  3.229651e+06   \nmax               4.396452e+07                  2.605802e+07   \n\n       OTHER_EXPENDITURE  ...     GRADES_4_G     GRADES_8_G   GRADES_12_G  \\\ncount       1.229000e+03  ...    1361.000000    1361.000000    1361.00000   \nmean        4.292046e+05  ...   64538.927259   64271.057311   54268.92432   \nstd         5.340693e+05  ...   80293.387625   78910.545776   67889.27623   \nmin         1.154100e+04  ...     633.000000     437.000000     311.00000   \n25%         1.028310e+05  ...   13739.000000   13342.000000   10919.00000   \n50%         2.715960e+05  ...   43272.000000   43339.000000   36735.00000   \n75%         5.186000e+05  ...   75481.000000   76566.000000   67460.00000   \nmax         3.995951e+06  ...  493415.000000  500143.000000  498403.00000   \n\n       GRADES_1_8_G  GRADES_9_12_G  GRADES_ALL_G  AVG_MATH_4_SCORE  \\\ncount  1.361000e+03   1.361000e+03  1.319000e+03        536.000000   \nmean   5.192140e+05   2.470714e+05  8.024415e+05        234.768293   \nstd    6.436384e+05   3.077056e+05  9.707031e+05         10.221511   \nmin    4.878000e+03   1.808000e+03  7.254000e+03        187.134670   \n25%    1.106260e+05   5.147100e+04  1.810650e+05        229.694352   \n50%    3.457750e+05   1.642600e+05  5.503420e+05        237.238552   \n75%    6.119050e+05   2.905020e+05  9.282755e+05        241.995486   \nmax    3.929869e+06   2.013687e+06  5.944746e+06        253.420961   \n\n       AVG_MATH_8_SCORE  AVG_READING_4_SCORE  AVG_READING_8_SCORE  \ncount        532.000000           533.000000           498.000000  \nmean         278.414711           218.866154           263.661132  \nstd           10.159722             7.769616             6.803725  \nmin          232.831510           178.557612           236.379102  \n25%          272.761598           214.663401           259.533171  \n50%          280.618803           220.416034           265.010912  \n75%          285.347428           223.999337           268.190121  \nmax          300.568235           236.773867           280.499130  \n\n[8 rows x 23 columns]"
     },
     "execution_count": 97,
     "metadata": {},
     "output_type": "execute_result"
    }
   ],
   "source": [
    "# Given the variables, it seems we want to keep as much data as possible. Unless we are looking for a per student basis, then I'd throw out any row with no ENROLL value.\n",
    "\n",
    "education_df.describe()"
   ]
  },
  {
   "cell_type": "code",
   "execution_count": 98,
   "metadata": {},
   "outputs": [
    {
     "name": "stdout",
     "output_type": "stream",
     "text": "PRIMARY_KEY                     0\nSTATE                           0\nYEAR                            0\nENROLL                          0\nTOTAL_REVENUE                   0\nFEDERAL_REVENUE                 0\nSTATE_REVENUE                   0\nLOCAL_REVENUE                   0\nTOTAL_EXPENDITURE               0\nINSTRUCTION_EXPENDITURE         0\nSUPPORT_SERVICES_EXPENDITURE    0\nOTHER_EXPENDITURE               0\nCAPITAL_OUTLAY_EXPENDITURE      0\nGRADES_PK_G                     0\nGRADES_KG_G                     0\nGRADES_4_G                      0\nGRADES_8_G                      0\nGRADES_12_G                     0\nGRADES_1_8_G                    0\nGRADES_9_12_G                   0\nGRADES_ALL_G                    0\nAVG_MATH_4_SCORE                0\nAVG_MATH_8_SCORE                0\nAVG_READING_4_SCORE             0\nAVG_READING_8_SCORE             0\ndtype: int64\n              YEAR        ENROLL  TOTAL_REVENUE  FEDERAL_REVENUE  \\\ncount  1492.000000  1.492000e+03   1.492000e+03     1.492000e+03   \nmean   2004.433646  8.687569e+05   8.521936e+06     7.147938e+05   \nstd       7.393983  9.721396e+05   1.096808e+07     1.068252e+06   \nmin    1992.000000  4.386600e+04   4.656500e+05     3.102000e+04   \n25%    1998.000000  3.150940e+05   2.546261e+06     2.170200e+05   \n50%    2004.000000  6.483130e+05   5.079546e+06     4.033765e+05   \n75%    2011.000000  9.211780e+05   9.276958e+06     7.505032e+05   \nmax    2017.000000  6.307022e+06   8.921726e+07     9.990221e+06   \n\n       STATE_REVENUE  LOCAL_REVENUE  TOTAL_EXPENDITURE  \\\ncount   1.492000e+03   1.492000e+03       1.492000e+03   \nmean    3.977914e+06   3.817390e+06       8.633691e+06   \nstd     5.167296e+06   5.128620e+06       1.117990e+07   \nmin     0.000000e+00   2.209300e+04       4.816650e+05   \n25%     1.356434e+06   9.447962e+05       2.523968e+06   \n50%     2.537074e+06   2.055780e+06       5.234506e+06   \n75%     4.269811e+06   3.959033e+06       9.434922e+06   \nmax     5.090457e+07   3.610526e+07       8.532013e+07   \n\n       INSTRUCTION_EXPENDITURE  SUPPORT_SERVICES_EXPENDITURE  \\\ncount             1.492000e+03                  1.492000e+03   \nmean              4.463791e+06                  2.516226e+06   \nstd               5.874676e+06                  3.131896e+06   \nmin               2.655490e+05                  1.399630e+05   \n25%               1.343611e+06                  7.673688e+05   \n50%               2.657452e+06                  1.525406e+06   \n75%               4.938820e+06                  2.795888e+06   \nmax               4.396452e+07                  2.605802e+07   \n\n       OTHER_EXPENDITURE  ...     GRADES_4_G     GRADES_8_G    GRADES_12_G  \\\ncount       1.492000e+03  ...    1492.000000    1492.000000    1492.000000   \nmean        4.014224e+05  ...   62671.656836   62433.189008   52729.417560   \nstd         4.883924e+05  ...   76920.983541   75596.918687   65028.062289   \nmin         1.154100e+04  ...     633.000000     437.000000     311.000000   \n25%         1.354282e+05  ...   15195.500000   15682.750000   13437.000000   \n50%         2.715960e+05  ...   43272.000000   43339.000000   36735.000000   \n75%         4.568915e+05  ...   71814.250000   72131.000000   64616.250000   \nmax         3.995951e+06  ...  493415.000000  500143.000000  498403.000000   \n\n       GRADES_1_8_G  GRADES_9_12_G  GRADES_ALL_G  AVG_MATH_4_SCORE  \\\ncount  1.492000e+03   1.492000e+03  1.492000e+03       1492.000000   \nmean   5.039858e+05   2.398004e+05  7.732101e+05        236.351113   \nstd    6.166711e+05   2.948110e+05  9.162167e+05          6.236570   \nmin    4.878000e+03   1.808000e+03  7.254000e+03        187.134670   \n25%    1.211522e+05   5.919750e+04  2.293578e+05        237.238552   \n50%    3.457750e+05   1.642600e+05  5.503420e+05        237.238552   \n75%    5.749118e+05   2.825390e+05  8.724220e+05        237.238552   \nmax    3.929869e+06   2.013687e+06  5.944746e+06        253.420961   \n\n       AVG_MATH_8_SCORE  AVG_READING_4_SCORE  AVG_READING_8_SCORE  \ncount       1492.000000          1492.000000          1492.000000  \nmean         279.832894           219.862357           264.560382  \nstd            6.154327             4.700141             3.979401  \nmin          232.831510           178.557612           236.379102  \n25%          280.618803           220.416034           265.010912  \n50%          280.618803           220.416034           265.010912  \n75%          280.618803           220.416034           265.010912  \nmax          300.568235           236.773867           280.499130  \n\n[8 rows x 23 columns]\nWe can see that there are no more nulls, and the medians stayed the same, while the means lowered, so that worked.\n"
    }
   ],
   "source": [
    "# Since for every column the mean is skewed significantly away from the median, we'll use median to fill null values.\n",
    "\n",
    "filled_all_imputation_education_df = education_df.fillna(education_df.median())\n",
    "\n",
    "print(filled_all_imputation_education_df.isnull().sum())\n",
    "print(filled_all_imputation_education_df.describe())\n",
    "print('We can see that there are no more nulls, and the medians stayed the same, while the means lowered, so that worked.')"
   ]
  },
  {
   "cell_type": "markdown",
   "execution_count": null,
   "metadata": {},
   "outputs": [],
   "source": [
    "### 3. Now, take into account the time factor. Replicate your second answer but this time fill in the missing values by using a statistic that is calculated within the year of the observation. For example, if you want to fill a missing value for a variable with the mean of that variable, calculate the mean by using *only* the observations for that specific year."
   ]
  },
  {
   "cell_type": "code",
   "execution_count": 99,
   "metadata": {},
   "outputs": [
    {
     "name": "stdout",
     "output_type": "stream",
     "text": "PRIMARY_KEY                       0\nSTATE                             0\nYEAR                              0\nENROLL                          263\nTOTAL_REVENUE                   212\nFEDERAL_REVENUE                 212\nSTATE_REVENUE                   212\nLOCAL_REVENUE                   212\nTOTAL_EXPENDITURE               212\nINSTRUCTION_EXPENDITURE         212\nSUPPORT_SERVICES_EXPENDITURE    212\nOTHER_EXPENDITURE               263\nCAPITAL_OUTLAY_EXPENDITURE      212\nGRADES_PK_G                     173\nGRADES_KG_G                     132\nGRADES_4_G                      131\nGRADES_8_G                      131\nGRADES_12_G                     131\nGRADES_1_8_G                    131\nGRADES_9_12_G                   131\nGRADES_ALL_G                    173\nAVG_MATH_4_SCORE                956\nAVG_MATH_8_SCORE                960\nAVG_READING_4_SCORE             959\nAVG_READING_8_SCORE             994\ndtype: int64\n"
    },
    {
     "data": {
      "text/html": "<div>\n<style scoped>\n    .dataframe tbody tr th:only-of-type {\n        vertical-align: middle;\n    }\n\n    .dataframe tbody tr th {\n        vertical-align: top;\n    }\n\n    .dataframe thead th {\n        text-align: right;\n    }\n</style>\n<table border=\"1\" class=\"dataframe\">\n  <thead>\n    <tr style=\"text-align: right;\">\n      <th></th>\n      <th>YEAR</th>\n      <th>ENROLL</th>\n      <th>TOTAL_REVENUE</th>\n      <th>FEDERAL_REVENUE</th>\n      <th>STATE_REVENUE</th>\n      <th>LOCAL_REVENUE</th>\n      <th>TOTAL_EXPENDITURE</th>\n      <th>INSTRUCTION_EXPENDITURE</th>\n      <th>SUPPORT_SERVICES_EXPENDITURE</th>\n      <th>OTHER_EXPENDITURE</th>\n      <th>...</th>\n      <th>GRADES_4_G</th>\n      <th>GRADES_8_G</th>\n      <th>GRADES_12_G</th>\n      <th>GRADES_1_8_G</th>\n      <th>GRADES_9_12_G</th>\n      <th>GRADES_ALL_G</th>\n      <th>AVG_MATH_4_SCORE</th>\n      <th>AVG_MATH_8_SCORE</th>\n      <th>AVG_READING_4_SCORE</th>\n      <th>AVG_READING_8_SCORE</th>\n    </tr>\n  </thead>\n  <tbody>\n    <tr>\n      <th>count</th>\n      <td>1492.000000</td>\n      <td>1.229000e+03</td>\n      <td>1.280000e+03</td>\n      <td>1.280000e+03</td>\n      <td>1.280000e+03</td>\n      <td>1.280000e+03</td>\n      <td>1.280000e+03</td>\n      <td>1.280000e+03</td>\n      <td>1.280000e+03</td>\n      <td>1.229000e+03</td>\n      <td>...</td>\n      <td>1361.000000</td>\n      <td>1361.000000</td>\n      <td>1361.00000</td>\n      <td>1.361000e+03</td>\n      <td>1.361000e+03</td>\n      <td>1.319000e+03</td>\n      <td>536.000000</td>\n      <td>532.000000</td>\n      <td>533.000000</td>\n      <td>498.000000</td>\n    </tr>\n    <tr>\n      <th>mean</th>\n      <td>2004.433646</td>\n      <td>9.159308e+05</td>\n      <td>9.092082e+06</td>\n      <td>7.663723e+05</td>\n      <td>4.216553e+06</td>\n      <td>4.109157e+06</td>\n      <td>9.196681e+06</td>\n      <td>4.762966e+06</td>\n      <td>2.680331e+06</td>\n      <td>4.292046e+05</td>\n      <td>...</td>\n      <td>64538.927259</td>\n      <td>64271.057311</td>\n      <td>54268.92432</td>\n      <td>5.192140e+05</td>\n      <td>2.470714e+05</td>\n      <td>8.024415e+05</td>\n      <td>234.768293</td>\n      <td>278.414711</td>\n      <td>218.866154</td>\n      <td>263.661132</td>\n    </tr>\n    <tr>\n      <th>std</th>\n      <td>7.393983</td>\n      <td>1.065280e+06</td>\n      <td>1.174519e+07</td>\n      <td>1.145242e+06</td>\n      <td>5.543072e+06</td>\n      <td>5.482971e+06</td>\n      <td>1.197813e+07</td>\n      <td>6.293004e+06</td>\n      <td>3.353349e+06</td>\n      <td>5.340693e+05</td>\n      <td>...</td>\n      <td>80293.387625</td>\n      <td>78910.545776</td>\n      <td>67889.27623</td>\n      <td>6.436384e+05</td>\n      <td>3.077056e+05</td>\n      <td>9.707031e+05</td>\n      <td>10.221511</td>\n      <td>10.159722</td>\n      <td>7.769616</td>\n      <td>6.803725</td>\n    </tr>\n    <tr>\n      <th>min</th>\n      <td>1992.000000</td>\n      <td>4.386600e+04</td>\n      <td>4.656500e+05</td>\n      <td>3.102000e+04</td>\n      <td>0.000000e+00</td>\n      <td>2.209300e+04</td>\n      <td>4.816650e+05</td>\n      <td>2.655490e+05</td>\n      <td>1.399630e+05</td>\n      <td>1.154100e+04</td>\n      <td>...</td>\n      <td>633.000000</td>\n      <td>437.000000</td>\n      <td>311.00000</td>\n      <td>4.878000e+03</td>\n      <td>1.808000e+03</td>\n      <td>7.254000e+03</td>\n      <td>187.134670</td>\n      <td>232.831510</td>\n      <td>178.557612</td>\n      <td>236.379102</td>\n    </tr>\n    <tr>\n      <th>25%</th>\n      <td>1998.000000</td>\n      <td>2.583140e+05</td>\n      <td>2.186305e+06</td>\n      <td>1.893540e+05</td>\n      <td>1.153097e+06</td>\n      <td>7.158345e+05</td>\n      <td>2.165404e+06</td>\n      <td>1.168032e+06</td>\n      <td>6.357900e+05</td>\n      <td>1.028310e+05</td>\n      <td>...</td>\n      <td>13739.000000</td>\n      <td>13342.000000</td>\n      <td>10919.00000</td>\n      <td>1.106260e+05</td>\n      <td>5.147100e+04</td>\n      <td>1.810650e+05</td>\n      <td>229.694352</td>\n      <td>272.761598</td>\n      <td>214.663401</td>\n      <td>259.533171</td>\n    </tr>\n    <tr>\n      <th>50%</th>\n      <td>2004.000000</td>\n      <td>6.483130e+05</td>\n      <td>5.079546e+06</td>\n      <td>4.033765e+05</td>\n      <td>2.537074e+06</td>\n      <td>2.055780e+06</td>\n      <td>5.234506e+06</td>\n      <td>2.657452e+06</td>\n      <td>1.525406e+06</td>\n      <td>2.715960e+05</td>\n      <td>...</td>\n      <td>43272.000000</td>\n      <td>43339.000000</td>\n      <td>36735.00000</td>\n      <td>3.457750e+05</td>\n      <td>1.642600e+05</td>\n      <td>5.503420e+05</td>\n      <td>237.238552</td>\n      <td>280.618803</td>\n      <td>220.416034</td>\n      <td>265.010912</td>\n    </tr>\n    <tr>\n      <th>75%</th>\n      <td>2011.000000</td>\n      <td>1.014528e+06</td>\n      <td>1.085985e+07</td>\n      <td>8.289660e+05</td>\n      <td>5.080939e+06</td>\n      <td>4.768680e+06</td>\n      <td>1.074519e+07</td>\n      <td>5.568028e+06</td>\n      <td>3.229651e+06</td>\n      <td>5.186000e+05</td>\n      <td>...</td>\n      <td>75481.000000</td>\n      <td>76566.000000</td>\n      <td>67460.00000</td>\n      <td>6.119050e+05</td>\n      <td>2.905020e+05</td>\n      <td>9.282755e+05</td>\n      <td>241.995486</td>\n      <td>285.347428</td>\n      <td>223.999337</td>\n      <td>268.190121</td>\n    </tr>\n    <tr>\n      <th>max</th>\n      <td>2017.000000</td>\n      <td>6.307022e+06</td>\n      <td>8.921726e+07</td>\n      <td>9.990221e+06</td>\n      <td>5.090457e+07</td>\n      <td>3.610526e+07</td>\n      <td>8.532013e+07</td>\n      <td>4.396452e+07</td>\n      <td>2.605802e+07</td>\n      <td>3.995951e+06</td>\n      <td>...</td>\n      <td>493415.000000</td>\n      <td>500143.000000</td>\n      <td>498403.00000</td>\n      <td>3.929869e+06</td>\n      <td>2.013687e+06</td>\n      <td>5.944746e+06</td>\n      <td>253.420961</td>\n      <td>300.568235</td>\n      <td>236.773867</td>\n      <td>280.499130</td>\n    </tr>\n  </tbody>\n</table>\n<p>8 rows × 23 columns</p>\n</div>",
      "text/plain": "              YEAR        ENROLL  TOTAL_REVENUE  FEDERAL_REVENUE  \\\ncount  1492.000000  1.229000e+03   1.280000e+03     1.280000e+03   \nmean   2004.433646  9.159308e+05   9.092082e+06     7.663723e+05   \nstd       7.393983  1.065280e+06   1.174519e+07     1.145242e+06   \nmin    1992.000000  4.386600e+04   4.656500e+05     3.102000e+04   \n25%    1998.000000  2.583140e+05   2.186305e+06     1.893540e+05   \n50%    2004.000000  6.483130e+05   5.079546e+06     4.033765e+05   \n75%    2011.000000  1.014528e+06   1.085985e+07     8.289660e+05   \nmax    2017.000000  6.307022e+06   8.921726e+07     9.990221e+06   \n\n       STATE_REVENUE  LOCAL_REVENUE  TOTAL_EXPENDITURE  \\\ncount   1.280000e+03   1.280000e+03       1.280000e+03   \nmean    4.216553e+06   4.109157e+06       9.196681e+06   \nstd     5.543072e+06   5.482971e+06       1.197813e+07   \nmin     0.000000e+00   2.209300e+04       4.816650e+05   \n25%     1.153097e+06   7.158345e+05       2.165404e+06   \n50%     2.537074e+06   2.055780e+06       5.234506e+06   \n75%     5.080939e+06   4.768680e+06       1.074519e+07   \nmax     5.090457e+07   3.610526e+07       8.532013e+07   \n\n       INSTRUCTION_EXPENDITURE  SUPPORT_SERVICES_EXPENDITURE  \\\ncount             1.280000e+03                  1.280000e+03   \nmean              4.762966e+06                  2.680331e+06   \nstd               6.293004e+06                  3.353349e+06   \nmin               2.655490e+05                  1.399630e+05   \n25%               1.168032e+06                  6.357900e+05   \n50%               2.657452e+06                  1.525406e+06   \n75%               5.568028e+06                  3.229651e+06   \nmax               4.396452e+07                  2.605802e+07   \n\n       OTHER_EXPENDITURE  ...     GRADES_4_G     GRADES_8_G   GRADES_12_G  \\\ncount       1.229000e+03  ...    1361.000000    1361.000000    1361.00000   \nmean        4.292046e+05  ...   64538.927259   64271.057311   54268.92432   \nstd         5.340693e+05  ...   80293.387625   78910.545776   67889.27623   \nmin         1.154100e+04  ...     633.000000     437.000000     311.00000   \n25%         1.028310e+05  ...   13739.000000   13342.000000   10919.00000   \n50%         2.715960e+05  ...   43272.000000   43339.000000   36735.00000   \n75%         5.186000e+05  ...   75481.000000   76566.000000   67460.00000   \nmax         3.995951e+06  ...  493415.000000  500143.000000  498403.00000   \n\n       GRADES_1_8_G  GRADES_9_12_G  GRADES_ALL_G  AVG_MATH_4_SCORE  \\\ncount  1.361000e+03   1.361000e+03  1.319000e+03        536.000000   \nmean   5.192140e+05   2.470714e+05  8.024415e+05        234.768293   \nstd    6.436384e+05   3.077056e+05  9.707031e+05         10.221511   \nmin    4.878000e+03   1.808000e+03  7.254000e+03        187.134670   \n25%    1.106260e+05   5.147100e+04  1.810650e+05        229.694352   \n50%    3.457750e+05   1.642600e+05  5.503420e+05        237.238552   \n75%    6.119050e+05   2.905020e+05  9.282755e+05        241.995486   \nmax    3.929869e+06   2.013687e+06  5.944746e+06        253.420961   \n\n       AVG_MATH_8_SCORE  AVG_READING_4_SCORE  AVG_READING_8_SCORE  \ncount        532.000000           533.000000           498.000000  \nmean         278.414711           218.866154           263.661132  \nstd           10.159722             7.769616             6.803725  \nmin          232.831510           178.557612           236.379102  \n25%          272.761598           214.663401           259.533171  \n50%          280.618803           220.416034           265.010912  \n75%          285.347428           223.999337           268.190121  \nmax          300.568235           236.773867           280.499130  \n\n[8 rows x 23 columns]"
     },
     "execution_count": 99,
     "metadata": {},
     "output_type": "execute_result"
    }
   ],
   "source": [
    "filled_by_year_imputation_education_df = pd.DataFrame(education_df)\n",
    "\n",
    "for year in education_df['YEAR']:\n",
    "    filled_by_year_imputation_education_df.loc[filled_by_year_imputation_education_df['YEAR'] == year].fillna(education_df.loc[education_df['YEAR'] == year].median(), inplace=True)\n",
    "\n",
    "print(filled_by_year_imputation_education_df.isnull().sum())\n",
    "filled_by_year_imputation_education_df.describe()"
   ]
  },
  {
   "cell_type": "code",
   "execution_count": 100,
   "metadata": {},
   "outputs": [],
   "source": [
    "# filled_all_imputation_education_df = education_df.fillna(education_df.median())\n",
    "\n",
    "filled_by_year_imputation_education_df = education_df\n",
    "\n",
    "for col in filled_by_year_imputation_education_df.columns:\n",
    "    if filled_by_year_imputation_education_df[col].isnull().sum() == 0:\n",
    "        continue\n",
    "    else:\n",
    "        for year in filled_by_year_imputation_education_df['YEAR']:\n",
    "            mask = (filled_by_year_imputation_education_df['YEAR'] == year) & (filled_by_year_imputation_education_df[col].isnull())\n",
    "            filled_by_year_imputation_education_df.loc[mask] = filled_by_year_imputation_education_df[col].median() "
   ]
  },
  {
   "cell_type": "code",
   "execution_count": 101,
   "metadata": {},
   "outputs": [
    {
     "name": "stdout",
     "output_type": "stream",
     "text": "PRIMARY_KEY                     0\nSTATE                           0\nYEAR                            0\nENROLL                          0\nTOTAL_REVENUE                   0\nFEDERAL_REVENUE                 0\nSTATE_REVENUE                   0\nLOCAL_REVENUE                   0\nTOTAL_EXPENDITURE               0\nINSTRUCTION_EXPENDITURE         0\nSUPPORT_SERVICES_EXPENDITURE    0\nOTHER_EXPENDITURE               0\nCAPITAL_OUTLAY_EXPENDITURE      0\nGRADES_PK_G                     0\nGRADES_KG_G                     0\nGRADES_4_G                      0\nGRADES_8_G                      0\nGRADES_12_G                     0\nGRADES_1_8_G                    0\nGRADES_9_12_G                   0\nGRADES_ALL_G                    0\nAVG_MATH_4_SCORE                0\nAVG_MATH_8_SCORE                0\nAVG_READING_4_SCORE             0\nAVG_READING_8_SCORE             0\ndtype: int64\n"
    },
    {
     "data": {
      "text/html": "<div>\n<style scoped>\n    .dataframe tbody tr th:only-of-type {\n        vertical-align: middle;\n    }\n\n    .dataframe tbody tr th {\n        vertical-align: top;\n    }\n\n    .dataframe thead th {\n        text-align: right;\n    }\n</style>\n<table border=\"1\" class=\"dataframe\">\n  <thead>\n    <tr style=\"text-align: right;\">\n      <th></th>\n      <th>YEAR</th>\n      <th>ENROLL</th>\n      <th>TOTAL_REVENUE</th>\n      <th>FEDERAL_REVENUE</th>\n      <th>STATE_REVENUE</th>\n      <th>LOCAL_REVENUE</th>\n      <th>TOTAL_EXPENDITURE</th>\n      <th>INSTRUCTION_EXPENDITURE</th>\n      <th>SUPPORT_SERVICES_EXPENDITURE</th>\n      <th>OTHER_EXPENDITURE</th>\n      <th>...</th>\n      <th>GRADES_4_G</th>\n      <th>GRADES_8_G</th>\n      <th>GRADES_12_G</th>\n      <th>GRADES_1_8_G</th>\n      <th>GRADES_9_12_G</th>\n      <th>GRADES_ALL_G</th>\n      <th>AVG_MATH_4_SCORE</th>\n      <th>AVG_MATH_8_SCORE</th>\n      <th>AVG_READING_4_SCORE</th>\n      <th>AVG_READING_8_SCORE</th>\n    </tr>\n  </thead>\n  <tbody>\n    <tr>\n      <th>count</th>\n      <td>1492.000000</td>\n      <td>1.492000e+03</td>\n      <td>1.492000e+03</td>\n      <td>1.492000e+03</td>\n      <td>1.492000e+03</td>\n      <td>1.492000e+03</td>\n      <td>1.492000e+03</td>\n      <td>1.492000e+03</td>\n      <td>1.492000e+03</td>\n      <td>1.492000e+03</td>\n      <td>...</td>\n      <td>1492.000000</td>\n      <td>1492.000000</td>\n      <td>1492.000000</td>\n      <td>1.492000e+03</td>\n      <td>1.492000e+03</td>\n      <td>1.492000e+03</td>\n      <td>1492.000000</td>\n      <td>1492.000000</td>\n      <td>1492.000000</td>\n      <td>1492.000000</td>\n    </tr>\n    <tr>\n      <th>mean</th>\n      <td>115569.323704</td>\n      <td>3.728959e+05</td>\n      <td>2.978594e+06</td>\n      <td>3.724967e+05</td>\n      <td>1.436365e+06</td>\n      <td>1.399759e+06</td>\n      <td>3.008306e+06</td>\n      <td>1.611695e+06</td>\n      <td>9.597863e+05</td>\n      <td>2.459953e+05</td>\n      <td>...</td>\n      <td>134769.946358</td>\n      <td>134956.129334</td>\n      <td>132520.991264</td>\n      <td>2.743501e+05</td>\n      <td>1.931090e+05</td>\n      <td>3.585896e+05</td>\n      <td>115079.130202</td>\n      <td>115091.008740</td>\n      <td>115074.338619</td>\n      <td>115086.585251</td>\n    </tr>\n    <tr>\n      <th>std</th>\n      <td>246544.423603</td>\n      <td>7.109172e+05</td>\n      <td>8.078069e+06</td>\n      <td>7.958797e+05</td>\n      <td>3.725582e+06</td>\n      <td>3.738373e+06</td>\n      <td>8.214564e+06</td>\n      <td>4.287060e+06</td>\n      <td>2.300368e+06</td>\n      <td>4.045810e+05</td>\n      <td>...</td>\n      <td>243578.855017</td>\n      <td>243518.428462</td>\n      <td>243298.240896</td>\n      <td>4.655923e+05</td>\n      <td>2.984451e+05</td>\n      <td>6.741089e+05</td>\n      <td>246771.534471</td>\n      <td>246766.003423</td>\n      <td>246773.765971</td>\n      <td>246768.062966</td>\n    </tr>\n    <tr>\n      <th>min</th>\n      <td>244.691866</td>\n      <td>2.446919e+02</td>\n      <td>2.446919e+02</td>\n      <td>2.446919e+02</td>\n      <td>0.000000e+00</td>\n      <td>2.446919e+02</td>\n      <td>2.446919e+02</td>\n      <td>2.446919e+02</td>\n      <td>2.446919e+02</td>\n      <td>2.446919e+02</td>\n      <td>...</td>\n      <td>244.691866</td>\n      <td>244.691866</td>\n      <td>244.691866</td>\n      <td>2.446919e+02</td>\n      <td>2.446919e+02</td>\n      <td>2.446919e+02</td>\n      <td>187.134670</td>\n      <td>232.831510</td>\n      <td>181.626990</td>\n      <td>236.379102</td>\n    </tr>\n    <tr>\n      <th>25%</th>\n      <td>244.691866</td>\n      <td>2.446919e+02</td>\n      <td>2.446919e+02</td>\n      <td>2.446919e+02</td>\n      <td>2.446919e+02</td>\n      <td>2.446919e+02</td>\n      <td>2.446919e+02</td>\n      <td>2.446919e+02</td>\n      <td>2.446919e+02</td>\n      <td>2.446919e+02</td>\n      <td>...</td>\n      <td>244.691866</td>\n      <td>244.691866</td>\n      <td>244.691866</td>\n      <td>2.446919e+02</td>\n      <td>2.446919e+02</td>\n      <td>2.446919e+02</td>\n      <td>244.691866</td>\n      <td>244.691866</td>\n      <td>227.228260</td>\n      <td>244.691866</td>\n    </tr>\n    <tr>\n      <th>50%</th>\n      <td>244.691866</td>\n      <td>2.446919e+02</td>\n      <td>2.446919e+02</td>\n      <td>2.446919e+02</td>\n      <td>2.446919e+02</td>\n      <td>2.446919e+02</td>\n      <td>2.446919e+02</td>\n      <td>2.446919e+02</td>\n      <td>2.446919e+02</td>\n      <td>2.446919e+02</td>\n      <td>...</td>\n      <td>244.691866</td>\n      <td>244.691866</td>\n      <td>244.691866</td>\n      <td>2.446919e+02</td>\n      <td>2.446919e+02</td>\n      <td>2.446919e+02</td>\n      <td>244.691866</td>\n      <td>244.691866</td>\n      <td>244.691866</td>\n      <td>244.691866</td>\n    </tr>\n    <tr>\n      <th>75%</th>\n      <td>2013.500000</td>\n      <td>6.483130e+05</td>\n      <td>1.479703e+06</td>\n      <td>6.483130e+05</td>\n      <td>7.660610e+05</td>\n      <td>6.483130e+05</td>\n      <td>1.538029e+06</td>\n      <td>7.722782e+05</td>\n      <td>6.483130e+05</td>\n      <td>5.319942e+05</td>\n      <td>...</td>\n      <td>77625.750000</td>\n      <td>79269.250000</td>\n      <td>72332.750000</td>\n      <td>6.252868e+05</td>\n      <td>3.160865e+05</td>\n      <td>6.483130e+05</td>\n      <td>245.391379</td>\n      <td>288.724572</td>\n      <td>244.691866</td>\n      <td>270.281298</td>\n    </tr>\n    <tr>\n      <th>max</th>\n      <td>648313.000000</td>\n      <td>6.307022e+06</td>\n      <td>7.395890e+07</td>\n      <td>9.990221e+06</td>\n      <td>4.233364e+07</td>\n      <td>3.494151e+07</td>\n      <td>7.476609e+07</td>\n      <td>4.195426e+07</td>\n      <td>2.169368e+07</td>\n      <td>3.759373e+06</td>\n      <td>...</td>\n      <td>648313.000000</td>\n      <td>648313.000000</td>\n      <td>648313.000000</td>\n      <td>3.929869e+06</td>\n      <td>2.011865e+06</td>\n      <td>5.926631e+06</td>\n      <td>648313.000000</td>\n      <td>648313.000000</td>\n      <td>648313.000000</td>\n      <td>648313.000000</td>\n    </tr>\n  </tbody>\n</table>\n<p>8 rows × 23 columns</p>\n</div>",
      "text/plain": "                YEAR        ENROLL  TOTAL_REVENUE  FEDERAL_REVENUE  \\\ncount    1492.000000  1.492000e+03   1.492000e+03     1.492000e+03   \nmean   115569.323704  3.728959e+05   2.978594e+06     3.724967e+05   \nstd    246544.423603  7.109172e+05   8.078069e+06     7.958797e+05   \nmin       244.691866  2.446919e+02   2.446919e+02     2.446919e+02   \n25%       244.691866  2.446919e+02   2.446919e+02     2.446919e+02   \n50%       244.691866  2.446919e+02   2.446919e+02     2.446919e+02   \n75%      2013.500000  6.483130e+05   1.479703e+06     6.483130e+05   \nmax    648313.000000  6.307022e+06   7.395890e+07     9.990221e+06   \n\n       STATE_REVENUE  LOCAL_REVENUE  TOTAL_EXPENDITURE  \\\ncount   1.492000e+03   1.492000e+03       1.492000e+03   \nmean    1.436365e+06   1.399759e+06       3.008306e+06   \nstd     3.725582e+06   3.738373e+06       8.214564e+06   \nmin     0.000000e+00   2.446919e+02       2.446919e+02   \n25%     2.446919e+02   2.446919e+02       2.446919e+02   \n50%     2.446919e+02   2.446919e+02       2.446919e+02   \n75%     7.660610e+05   6.483130e+05       1.538029e+06   \nmax     4.233364e+07   3.494151e+07       7.476609e+07   \n\n       INSTRUCTION_EXPENDITURE  SUPPORT_SERVICES_EXPENDITURE  \\\ncount             1.492000e+03                  1.492000e+03   \nmean              1.611695e+06                  9.597863e+05   \nstd               4.287060e+06                  2.300368e+06   \nmin               2.446919e+02                  2.446919e+02   \n25%               2.446919e+02                  2.446919e+02   \n50%               2.446919e+02                  2.446919e+02   \n75%               7.722782e+05                  6.483130e+05   \nmax               4.195426e+07                  2.169368e+07   \n\n       OTHER_EXPENDITURE  ...     GRADES_4_G     GRADES_8_G    GRADES_12_G  \\\ncount       1.492000e+03  ...    1492.000000    1492.000000    1492.000000   \nmean        2.459953e+05  ...  134769.946358  134956.129334  132520.991264   \nstd         4.045810e+05  ...  243578.855017  243518.428462  243298.240896   \nmin         2.446919e+02  ...     244.691866     244.691866     244.691866   \n25%         2.446919e+02  ...     244.691866     244.691866     244.691866   \n50%         2.446919e+02  ...     244.691866     244.691866     244.691866   \n75%         5.319942e+05  ...   77625.750000   79269.250000   72332.750000   \nmax         3.759373e+06  ...  648313.000000  648313.000000  648313.000000   \n\n       GRADES_1_8_G  GRADES_9_12_G  GRADES_ALL_G  AVG_MATH_4_SCORE  \\\ncount  1.492000e+03   1.492000e+03  1.492000e+03       1492.000000   \nmean   2.743501e+05   1.931090e+05  3.585896e+05     115079.130202   \nstd    4.655923e+05   2.984451e+05  6.741089e+05     246771.534471   \nmin    2.446919e+02   2.446919e+02  2.446919e+02        187.134670   \n25%    2.446919e+02   2.446919e+02  2.446919e+02        244.691866   \n50%    2.446919e+02   2.446919e+02  2.446919e+02        244.691866   \n75%    6.252868e+05   3.160865e+05  6.483130e+05        245.391379   \nmax    3.929869e+06   2.011865e+06  5.926631e+06     648313.000000   \n\n       AVG_MATH_8_SCORE  AVG_READING_4_SCORE  AVG_READING_8_SCORE  \ncount       1492.000000          1492.000000          1492.000000  \nmean      115091.008740        115074.338619        115086.585251  \nstd       246766.003423        246773.765971        246768.062966  \nmin          232.831510           181.626990           236.379102  \n25%          244.691866           227.228260           244.691866  \n50%          244.691866           244.691866           244.691866  \n75%          288.724572           244.691866           270.281298  \nmax       648313.000000        648313.000000        648313.000000  \n\n[8 rows x 23 columns]"
     },
     "execution_count": 101,
     "metadata": {},
     "output_type": "execute_result"
    }
   ],
   "source": [
    "# We can see in this case that again there are no nulls, but now the overall medians did change a little, because\n",
    "\n",
    "print(filled_by_year_imputation_education_df.isnull().sum())\n",
    "filled_by_year_imputation_education_df.describe()"
   ]
  },
  {
   "cell_type": "markdown",
   "execution_count": null,
   "metadata": {},
   "outputs": [],
   "source": [
    "### 4. This time, fill in the missing values using interpolation (extrapolation)."
   ]
  },
  {
   "cell_type": "code",
   "execution_count": 102,
   "metadata": {},
   "outputs": [],
   "source": [
    "postgres_user = 'dsbc_student'\n",
    "postgres_pw = '7*.8G9QH21'\n",
    "postgres_host = '142.93.121.174'\n",
    "postgres_port = '5432'\n",
    "postgres_db = 'useducation'\n",
    "\n",
    "engine = create_engine('postgresql://{}:{}@{}:{}/{}'.format(\n",
    "    postgres_user, postgres_pw, postgres_host, postgres_port, postgres_db))\n",
    "\n",
    "education_df = pd.read_sql_query('SELECT * FROM useducation', con=engine)\n",
    "\n",
    "engine.dispose()"
   ]
  },
  {
   "cell_type": "code",
   "execution_count": 103,
   "metadata": {},
   "outputs": [
    {
     "name": "stdout",
     "output_type": "stream",
     "text": "PRIMARY_KEY                       0\nSTATE                             0\nYEAR                              0\nENROLL                          263\nTOTAL_REVENUE                   212\nFEDERAL_REVENUE                 212\nSTATE_REVENUE                   212\nLOCAL_REVENUE                   212\nTOTAL_EXPENDITURE               212\nINSTRUCTION_EXPENDITURE         212\nSUPPORT_SERVICES_EXPENDITURE    212\nOTHER_EXPENDITURE               263\nCAPITAL_OUTLAY_EXPENDITURE      212\nGRADES_PK_G                     173\nGRADES_KG_G                     132\nGRADES_4_G                      131\nGRADES_8_G                      131\nGRADES_12_G                     131\nGRADES_1_8_G                    131\nGRADES_9_12_G                   131\nGRADES_ALL_G                    173\nAVG_MATH_4_SCORE                956\nAVG_MATH_8_SCORE                960\nAVG_READING_4_SCORE             959\nAVG_READING_8_SCORE             994\ndtype: int64\nPRIMARY_KEY                       0\nSTATE                             0\nYEAR                              0\nENROLL                          242\nTOTAL_REVENUE                   206\nFEDERAL_REVENUE                 206\nSTATE_REVENUE                   206\nLOCAL_REVENUE                   206\nTOTAL_EXPENDITURE               206\nINSTRUCTION_EXPENDITURE         206\nSUPPORT_SERVICES_EXPENDITURE    206\nOTHER_EXPENDITURE               242\nCAPITAL_OUTLAY_EXPENDITURE      206\nGRADES_PK_G                      46\nGRADES_KG_G                      45\nGRADES_4_G                       45\nGRADES_8_G                       45\nGRADES_12_G                      45\nGRADES_1_8_G                     45\nGRADES_9_12_G                    45\nGRADES_ALL_G                     46\nAVG_MATH_4_SCORE                  0\nAVG_MATH_8_SCORE                  0\nAVG_READING_4_SCORE               0\nAVG_READING_8_SCORE               1\ndtype: int64\n"
    },
    {
     "data": {
      "text/html": "<div>\n<style scoped>\n    .dataframe tbody tr th:only-of-type {\n        vertical-align: middle;\n    }\n\n    .dataframe tbody tr th {\n        vertical-align: top;\n    }\n\n    .dataframe thead th {\n        text-align: right;\n    }\n</style>\n<table border=\"1\" class=\"dataframe\">\n  <thead>\n    <tr style=\"text-align: right;\">\n      <th></th>\n      <th>YEAR</th>\n      <th>ENROLL</th>\n      <th>TOTAL_REVENUE</th>\n      <th>FEDERAL_REVENUE</th>\n      <th>STATE_REVENUE</th>\n      <th>LOCAL_REVENUE</th>\n      <th>TOTAL_EXPENDITURE</th>\n      <th>INSTRUCTION_EXPENDITURE</th>\n      <th>SUPPORT_SERVICES_EXPENDITURE</th>\n      <th>OTHER_EXPENDITURE</th>\n      <th>...</th>\n      <th>GRADES_4_G</th>\n      <th>GRADES_8_G</th>\n      <th>GRADES_12_G</th>\n      <th>GRADES_1_8_G</th>\n      <th>GRADES_9_12_G</th>\n      <th>GRADES_ALL_G</th>\n      <th>AVG_MATH_4_SCORE</th>\n      <th>AVG_MATH_8_SCORE</th>\n      <th>AVG_READING_4_SCORE</th>\n      <th>AVG_READING_8_SCORE</th>\n    </tr>\n  </thead>\n  <tbody>\n    <tr>\n      <th>count</th>\n      <td>1492.000000</td>\n      <td>1.250000e+03</td>\n      <td>1.286000e+03</td>\n      <td>1.286000e+03</td>\n      <td>1.286000e+03</td>\n      <td>1.286000e+03</td>\n      <td>1.286000e+03</td>\n      <td>1.286000e+03</td>\n      <td>1.286000e+03</td>\n      <td>1.250000e+03</td>\n      <td>...</td>\n      <td>1447.000000</td>\n      <td>1447.000000</td>\n      <td>1447.000000</td>\n      <td>1.447000e+03</td>\n      <td>1.447000e+03</td>\n      <td>1.446000e+03</td>\n      <td>1492.000000</td>\n      <td>1492.000000</td>\n      <td>1492.000000</td>\n      <td>1491.000000</td>\n    </tr>\n    <tr>\n      <th>mean</th>\n      <td>2004.433646</td>\n      <td>9.084059e+05</td>\n      <td>9.084260e+06</td>\n      <td>7.661415e+05</td>\n      <td>4.214604e+06</td>\n      <td>4.103515e+06</td>\n      <td>9.187719e+06</td>\n      <td>4.758071e+06</td>\n      <td>2.678150e+06</td>\n      <td>4.252118e+05</td>\n      <td>...</td>\n      <td>61579.761576</td>\n      <td>61294.467865</td>\n      <td>51734.341396</td>\n      <td>4.953893e+05</td>\n      <td>2.355370e+05</td>\n      <td>7.592488e+05</td>\n      <td>232.763656</td>\n      <td>275.807462</td>\n      <td>218.998717</td>\n      <td>263.278010</td>\n    </tr>\n    <tr>\n      <th>std</th>\n      <td>7.393983</td>\n      <td>1.058859e+06</td>\n      <td>1.172182e+07</td>\n      <td>1.142968e+06</td>\n      <td>5.533337e+06</td>\n      <td>5.471561e+06</td>\n      <td>1.195398e+07</td>\n      <td>6.280230e+06</td>\n      <td>3.346697e+06</td>\n      <td>5.309374e+05</td>\n      <td>...</td>\n      <td>78958.850132</td>\n      <td>77652.145300</td>\n      <td>66791.572997</td>\n      <td>6.330687e+05</td>\n      <td>3.027433e+05</td>\n      <td>9.424423e+05</td>\n      <td>10.264919</td>\n      <td>10.115267</td>\n      <td>6.746932</td>\n      <td>5.780933</td>\n    </tr>\n    <tr>\n      <th>min</th>\n      <td>1992.000000</td>\n      <td>4.386600e+04</td>\n      <td>4.656500e+05</td>\n      <td>3.102000e+04</td>\n      <td>0.000000e+00</td>\n      <td>2.209300e+04</td>\n      <td>4.816650e+05</td>\n      <td>2.655490e+05</td>\n      <td>1.399630e+05</td>\n      <td>1.154100e+04</td>\n      <td>...</td>\n      <td>633.000000</td>\n      <td>437.000000</td>\n      <td>311.000000</td>\n      <td>4.878000e+03</td>\n      <td>1.808000e+03</td>\n      <td>7.254000e+03</td>\n      <td>187.134670</td>\n      <td>232.831510</td>\n      <td>178.557612</td>\n      <td>236.379102</td>\n    </tr>\n    <tr>\n      <th>25%</th>\n      <td>1998.000000</td>\n      <td>2.490735e+05</td>\n      <td>2.187606e+06</td>\n      <td>1.895488e+05</td>\n      <td>1.156122e+06</td>\n      <td>7.159095e+05</td>\n      <td>2.166505e+06</td>\n      <td>1.169423e+06</td>\n      <td>6.363895e+05</td>\n      <td>1.005785e+05</td>\n      <td>...</td>\n      <td>10882.500000</td>\n      <td>11122.000000</td>\n      <td>9915.000000</td>\n      <td>8.718650e+04</td>\n      <td>4.288150e+04</td>\n      <td>1.641932e+05</td>\n      <td>225.377592</td>\n      <td>268.312020</td>\n      <td>216.273356</td>\n      <td>258.777258</td>\n    </tr>\n    <tr>\n      <th>50%</th>\n      <td>2004.000000</td>\n      <td>6.499335e+05</td>\n      <td>5.085954e+06</td>\n      <td>4.043130e+05</td>\n      <td>2.538567e+06</td>\n      <td>2.064416e+06</td>\n      <td>5.244116e+06</td>\n      <td>2.658850e+06</td>\n      <td>1.526175e+06</td>\n      <td>2.688195e+05</td>\n      <td>...</td>\n      <td>40903.000000</td>\n      <td>40261.000000</td>\n      <td>34790.000000</td>\n      <td>3.276290e+05</td>\n      <td>1.555060e+05</td>\n      <td>5.189445e+05</td>\n      <td>232.861332</td>\n      <td>276.689980</td>\n      <td>221.129754</td>\n      <td>262.118986</td>\n    </tr>\n    <tr>\n      <th>75%</th>\n      <td>2011.000000</td>\n      <td>1.006367e+06</td>\n      <td>1.088210e+07</td>\n      <td>8.300340e+05</td>\n      <td>5.109714e+06</td>\n      <td>4.761837e+06</td>\n      <td>1.074618e+07</td>\n      <td>5.579660e+06</td>\n      <td>3.232484e+06</td>\n      <td>5.142138e+05</td>\n      <td>...</td>\n      <td>73792.000000</td>\n      <td>73672.000000</td>\n      <td>65900.000000</td>\n      <td>5.957965e+05</td>\n      <td>2.870570e+05</td>\n      <td>8.957032e+05</td>\n      <td>241.672327</td>\n      <td>285.231170</td>\n      <td>223.411510</td>\n      <td>267.776050</td>\n    </tr>\n    <tr>\n      <th>max</th>\n      <td>2017.000000</td>\n      <td>6.307022e+06</td>\n      <td>8.921726e+07</td>\n      <td>9.990221e+06</td>\n      <td>5.090457e+07</td>\n      <td>3.610526e+07</td>\n      <td>8.532013e+07</td>\n      <td>4.396452e+07</td>\n      <td>2.605802e+07</td>\n      <td>3.995951e+06</td>\n      <td>...</td>\n      <td>493415.000000</td>\n      <td>500143.000000</td>\n      <td>498403.000000</td>\n      <td>3.929869e+06</td>\n      <td>2.013687e+06</td>\n      <td>5.944746e+06</td>\n      <td>253.420961</td>\n      <td>300.568235</td>\n      <td>236.773867</td>\n      <td>280.499130</td>\n    </tr>\n  </tbody>\n</table>\n<p>8 rows × 23 columns</p>\n</div>",
      "text/plain": "              YEAR        ENROLL  TOTAL_REVENUE  FEDERAL_REVENUE  \\\ncount  1492.000000  1.250000e+03   1.286000e+03     1.286000e+03   \nmean   2004.433646  9.084059e+05   9.084260e+06     7.661415e+05   \nstd       7.393983  1.058859e+06   1.172182e+07     1.142968e+06   \nmin    1992.000000  4.386600e+04   4.656500e+05     3.102000e+04   \n25%    1998.000000  2.490735e+05   2.187606e+06     1.895488e+05   \n50%    2004.000000  6.499335e+05   5.085954e+06     4.043130e+05   \n75%    2011.000000  1.006367e+06   1.088210e+07     8.300340e+05   \nmax    2017.000000  6.307022e+06   8.921726e+07     9.990221e+06   \n\n       STATE_REVENUE  LOCAL_REVENUE  TOTAL_EXPENDITURE  \\\ncount   1.286000e+03   1.286000e+03       1.286000e+03   \nmean    4.214604e+06   4.103515e+06       9.187719e+06   \nstd     5.533337e+06   5.471561e+06       1.195398e+07   \nmin     0.000000e+00   2.209300e+04       4.816650e+05   \n25%     1.156122e+06   7.159095e+05       2.166505e+06   \n50%     2.538567e+06   2.064416e+06       5.244116e+06   \n75%     5.109714e+06   4.761837e+06       1.074618e+07   \nmax     5.090457e+07   3.610526e+07       8.532013e+07   \n\n       INSTRUCTION_EXPENDITURE  SUPPORT_SERVICES_EXPENDITURE  \\\ncount             1.286000e+03                  1.286000e+03   \nmean              4.758071e+06                  2.678150e+06   \nstd               6.280230e+06                  3.346697e+06   \nmin               2.655490e+05                  1.399630e+05   \n25%               1.169423e+06                  6.363895e+05   \n50%               2.658850e+06                  1.526175e+06   \n75%               5.579660e+06                  3.232484e+06   \nmax               4.396452e+07                  2.605802e+07   \n\n       OTHER_EXPENDITURE  ...     GRADES_4_G     GRADES_8_G    GRADES_12_G  \\\ncount       1.250000e+03  ...    1447.000000    1447.000000    1447.000000   \nmean        4.252118e+05  ...   61579.761576   61294.467865   51734.341396   \nstd         5.309374e+05  ...   78958.850132   77652.145300   66791.572997   \nmin         1.154100e+04  ...     633.000000     437.000000     311.000000   \n25%         1.005785e+05  ...   10882.500000   11122.000000    9915.000000   \n50%         2.688195e+05  ...   40903.000000   40261.000000   34790.000000   \n75%         5.142138e+05  ...   73792.000000   73672.000000   65900.000000   \nmax         3.995951e+06  ...  493415.000000  500143.000000  498403.000000   \n\n       GRADES_1_8_G  GRADES_9_12_G  GRADES_ALL_G  AVG_MATH_4_SCORE  \\\ncount  1.447000e+03   1.447000e+03  1.446000e+03       1492.000000   \nmean   4.953893e+05   2.355370e+05  7.592488e+05        232.763656   \nstd    6.330687e+05   3.027433e+05  9.424423e+05         10.264919   \nmin    4.878000e+03   1.808000e+03  7.254000e+03        187.134670   \n25%    8.718650e+04   4.288150e+04  1.641932e+05        225.377592   \n50%    3.276290e+05   1.555060e+05  5.189445e+05        232.861332   \n75%    5.957965e+05   2.870570e+05  8.957032e+05        241.672327   \nmax    3.929869e+06   2.013687e+06  5.944746e+06        253.420961   \n\n       AVG_MATH_8_SCORE  AVG_READING_4_SCORE  AVG_READING_8_SCORE  \ncount       1492.000000          1492.000000          1491.000000  \nmean         275.807462           218.998717           263.278010  \nstd           10.115267             6.746932             5.780933  \nmin          232.831510           178.557612           236.379102  \n25%          268.312020           216.273356           258.777258  \n50%          276.689980           221.129754           262.118986  \n75%          285.231170           223.411510           267.776050  \nmax          300.568235           236.773867           280.499130  \n\n[8 rows x 23 columns]"
     },
     "execution_count": 103,
     "metadata": {},
     "output_type": "execute_result"
    }
   ],
   "source": [
    "print(education_df.isnull().sum())\n",
    "filled_interpolation_education_df = education_df.interpolate(method='nearest')\n",
    "\n",
    "print(filled_interpolation_education_df.isnull().sum())\n",
    "filled_interpolation_education_df.describe()"
   ]
  },
  {
   "cell_type": "markdown",
   "execution_count": null,
   "metadata": {},
   "outputs": [],
   "source": [
    "### 5. Compare your results for the 2nd, 3rd, and 4th questions. Do you find any meaningful differences?"
   ]
  },
  {
   "cell_type": "code",
   "execution_count": null,
   "metadata": {},
   "outputs": [],
   "source": []
  }
 ]
}